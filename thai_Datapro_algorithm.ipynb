{
  "nbformat": 4,
  "nbformat_minor": 0,
  "metadata": {
    "colab": {
      "name": "thai-Datapro-algorithm.ipynb",
      "provenance": [],
      "collapsed_sections": [
        "1d1m-Kh14h3g",
        "Tl8g5Qa6-BYt"
      ],
      "mount_file_id": "1_kTwgggrsOq29k9Iybfzm2xUtsaROzSA",
      "authorship_tag": "ABX9TyPNr5V4GAwTHC8O1ZlEvu0w",
      "include_colab_link": true
    },
    "kernelspec": {
      "name": "python3",
      "display_name": "Python 3"
    },
    "language_info": {
      "name": "python"
    }
  },
  "cells": [
    {
      "cell_type": "markdown",
      "metadata": {
        "id": "view-in-github",
        "colab_type": "text"
      },
      "source": [
        "<a href=\"https://colab.research.google.com/github/NonKhuna/DataPro-Algorithm/blob/main/thai_Datapro_algorithm.ipynb\" target=\"_parent\"><img src=\"https://colab.research.google.com/assets/colab-badge.svg\" alt=\"Open In Colab\"/></a>"
      ]
    },
    {
      "cell_type": "markdown",
      "source": [
        "This colab is a program that was implemented according to https://www.aaai.org/Papers/AAAI/2000/AAAI00-093.pdf. "
      ],
      "metadata": {
        "id": "KyUC9Hpp3wvn"
      }
    },
    {
      "cell_type": "markdown",
      "source": [
        "# **Import**"
      ],
      "metadata": {
        "id": "1d1m-Kh14h3g"
      }
    },
    {
      "cell_type": "markdown",
      "source": [
        "## **library**"
      ],
      "metadata": {
        "id": "hsyw5vRB97TM"
      }
    },
    {
      "cell_type": "code",
      "source": [
        "!pip install kaggle"
      ],
      "metadata": {
        "colab": {
          "base_uri": "https://localhost:8080/"
        },
        "id": "7PxjW-qvQO32",
        "outputId": "db79eb1e-eacc-4797-9313-01fde0420c6b"
      },
      "execution_count": 1,
      "outputs": [
        {
          "output_type": "stream",
          "name": "stdout",
          "text": [
            "Looking in indexes: https://pypi.org/simple, https://us-python.pkg.dev/colab-wheels/public/simple/\n",
            "Requirement already satisfied: kaggle in /usr/local/lib/python3.7/dist-packages (1.5.12)\n",
            "Requirement already satisfied: python-slugify in /usr/local/lib/python3.7/dist-packages (from kaggle) (6.1.2)\n",
            "Requirement already satisfied: requests in /usr/local/lib/python3.7/dist-packages (from kaggle) (2.23.0)\n",
            "Requirement already satisfied: python-dateutil in /usr/local/lib/python3.7/dist-packages (from kaggle) (2.8.2)\n",
            "Requirement already satisfied: certifi in /usr/local/lib/python3.7/dist-packages (from kaggle) (2022.6.15)\n",
            "Requirement already satisfied: urllib3 in /usr/local/lib/python3.7/dist-packages (from kaggle) (1.24.3)\n",
            "Requirement already satisfied: six>=1.10 in /usr/local/lib/python3.7/dist-packages (from kaggle) (1.15.0)\n",
            "Requirement already satisfied: tqdm in /usr/local/lib/python3.7/dist-packages (from kaggle) (4.64.0)\n",
            "Requirement already satisfied: text-unidecode>=1.3 in /usr/local/lib/python3.7/dist-packages (from python-slugify->kaggle) (1.3)\n",
            "Requirement already satisfied: chardet<4,>=3.0.2 in /usr/local/lib/python3.7/dist-packages (from requests->kaggle) (3.0.4)\n",
            "Requirement already satisfied: idna<3,>=2.5 in /usr/local/lib/python3.7/dist-packages (from requests->kaggle) (2.10)\n"
          ]
        }
      ]
    },
    {
      "cell_type": "code",
      "source": [
        "# # release version \n",
        "# ! pip install pythainlp"
      ],
      "metadata": {
        "id": "VJacgSyoxn6Y"
      },
      "execution_count": 2,
      "outputs": []
    },
    {
      "cell_type": "code",
      "execution_count": 3,
      "metadata": {
        "id": "QjD7jaliPRDE"
      },
      "outputs": [],
      "source": [
        "import numpy as  np\n",
        "import pandas as pd\n",
        "import json\n",
        "import re\n",
        "\n",
        "# from queue import Queue\n",
        "\n",
        "# import math\n",
        "# from scipy.stats import norm\n",
        "# import ipywidgets as widgets\n",
        "# # from nltk.tokenize import word_tokenize\n",
        "# from pythainlp import word_tokenize"
      ]
    },
    {
      "cell_type": "code",
      "source": [
        "# import nltk\n",
        "# nltk.download('punkt')"
      ],
      "metadata": {
        "id": "U7jYphjEIKBd"
      },
      "execution_count": 4,
      "outputs": []
    },
    {
      "cell_type": "code",
      "source": [
        "!mkdir ~/.kaggle\n",
        "!cp /content/drive/MyDrive/kaggle.json ~/.kaggle/kaggle.json"
      ],
      "metadata": {
        "id": "OmoEYlbUQSoT",
        "colab": {
          "base_uri": "https://localhost:8080/"
        },
        "outputId": "b11fd9fe-963b-4647-c79d-10e9b7e82905"
      },
      "execution_count": 5,
      "outputs": [
        {
          "output_type": "stream",
          "name": "stdout",
          "text": [
            "mkdir: cannot create directory ‘/root/.kaggle’: File exists\n",
            "cp: cannot stat '/content/drive/MyDrive/kaggle.json': No such file or directory\n"
          ]
        }
      ]
    },
    {
      "cell_type": "code",
      "source": [
        "!pip install datapro-learning==1.0"
      ],
      "metadata": {
        "colab": {
          "base_uri": "https://localhost:8080/"
        },
        "id": "dahbMEBLjgC4",
        "outputId": "8016084f-1121-43f6-d0d6-fb12b966e18f"
      },
      "execution_count": 6,
      "outputs": [
        {
          "output_type": "stream",
          "name": "stdout",
          "text": [
            "Looking in indexes: https://pypi.org/simple, https://us-python.pkg.dev/colab-wheels/public/simple/\n",
            "Requirement already satisfied: datapro-learning==1.0 in /usr/local/lib/python3.7/dist-packages (1.0)\n",
            "Requirement already satisfied: pandas in /usr/local/lib/python3.7/dist-packages (from datapro-learning==1.0) (1.3.5)\n",
            "Requirement already satisfied: openpyxl in /usr/local/lib/python3.7/dist-packages (from datapro-learning==1.0) (3.0.10)\n",
            "Requirement already satisfied: numpy in /usr/local/lib/python3.7/dist-packages (from datapro-learning==1.0) (1.21.6)\n",
            "Requirement already satisfied: scipy in /usr/local/lib/python3.7/dist-packages (from datapro-learning==1.0) (1.4.1)\n",
            "Requirement already satisfied: pythainlp in /usr/local/lib/python3.7/dist-packages (from datapro-learning==1.0) (3.0.8)\n",
            "Requirement already satisfied: et-xmlfile in /usr/local/lib/python3.7/dist-packages (from openpyxl->datapro-learning==1.0) (1.1.0)\n",
            "Requirement already satisfied: pytz>=2017.3 in /usr/local/lib/python3.7/dist-packages (from pandas->datapro-learning==1.0) (2022.1)\n",
            "Requirement already satisfied: python-dateutil>=2.7.3 in /usr/local/lib/python3.7/dist-packages (from pandas->datapro-learning==1.0) (2.8.2)\n",
            "Requirement already satisfied: six>=1.5 in /usr/local/lib/python3.7/dist-packages (from python-dateutil>=2.7.3->pandas->datapro-learning==1.0) (1.15.0)\n",
            "Requirement already satisfied: requests>=2.22.0 in /usr/local/lib/python3.7/dist-packages (from pythainlp->datapro-learning==1.0) (2.23.0)\n",
            "Requirement already satisfied: tinydb>=3.0 in /usr/local/lib/python3.7/dist-packages (from pythainlp->datapro-learning==1.0) (4.7.0)\n",
            "Requirement already satisfied: chardet<4,>=3.0.2 in /usr/local/lib/python3.7/dist-packages (from requests>=2.22.0->pythainlp->datapro-learning==1.0) (3.0.4)\n",
            "Requirement already satisfied: urllib3!=1.25.0,!=1.25.1,<1.26,>=1.21.1 in /usr/local/lib/python3.7/dist-packages (from requests>=2.22.0->pythainlp->datapro-learning==1.0) (1.24.3)\n",
            "Requirement already satisfied: certifi>=2017.4.17 in /usr/local/lib/python3.7/dist-packages (from requests>=2.22.0->pythainlp->datapro-learning==1.0) (2022.6.15)\n",
            "Requirement already satisfied: idna<3,>=2.5 in /usr/local/lib/python3.7/dist-packages (from requests>=2.22.0->pythainlp->datapro-learning==1.0) (2.10)\n",
            "Requirement already satisfied: typing-extensions<5.0.0,>=3.10.0 in /usr/local/lib/python3.7/dist-packages (from tinydb>=3.0->pythainlp->datapro-learning==1.0) (4.1.1)\n"
          ]
        }
      ]
    },
    {
      "cell_type": "markdown",
      "source": [
        "## **Preprocess Data**"
      ],
      "metadata": {
        "id": "Tl8g5Qa6-BYt"
      }
    },
    {
      "cell_type": "code",
      "source": [
        "!wget https://data.go.th/dataset/723f4c28-79de-4a29-bea9-efacbaec236d/resource/db646c54-2780-4b06-bc27-d4455ad1a6f4/download/untitled.xlsx"
      ],
      "metadata": {
        "colab": {
          "base_uri": "https://localhost:8080/"
        },
        "id": "i70SVq_xuHas",
        "outputId": "6cdd7eff-0e6f-4e51-e750-d5d51f456039"
      },
      "execution_count": 7,
      "outputs": [
        {
          "output_type": "stream",
          "name": "stdout",
          "text": [
            "--2022-07-08 07:24:02--  https://data.go.th/dataset/723f4c28-79de-4a29-bea9-efacbaec236d/resource/db646c54-2780-4b06-bc27-d4455ad1a6f4/download/untitled.xlsx\n",
            "Resolving data.go.th (data.go.th)... 164.115.75.59\n",
            "Connecting to data.go.th (data.go.th)|164.115.75.59|:443... connected.\n",
            "HTTP request sent, awaiting response... 200 OK\n",
            "Length: 274852 (268K) [application/vnd.openxmlformats-officedocument.spreadsheetml.sheet]\n",
            "Saving to: ‘untitled.xlsx.3’\n",
            "\n",
            "untitled.xlsx.3     100%[===================>] 268.41K   225KB/s    in 1.2s    \n",
            "\n",
            "2022-07-08 07:24:06 (225 KB/s) - ‘untitled.xlsx.3’ saved [274852/274852]\n",
            "\n"
          ]
        }
      ]
    },
    {
      "cell_type": "code",
      "source": [
        "df = pd.read_excel(\"untitled.xlsx\")"
      ],
      "metadata": {
        "id": "WtTnYvBwtZi3"
      },
      "execution_count": 8,
      "outputs": []
    },
    {
      "cell_type": "code",
      "source": [
        "df.head()"
      ],
      "metadata": {
        "colab": {
          "base_uri": "https://localhost:8080/",
          "height": 0
        },
        "id": "vmwq5RcOt-x2",
        "outputId": "0314a195-82aa-4001-e26f-fe36978bf04f"
      },
      "execution_count": 9,
      "outputs": [
        {
          "output_type": "execute_result",
          "data": {
            "text/plain": [
              "   รหัสจังหวัด รหัสสายทาง                                 ชื่อสายทาง  \\\n",
              "0           22    จบ.3035  แยก ทล.317 (กม.ที่ 21+350) - น้ำตกอ่างเบง   \n",
              "1           22    จบ.1003      แยก ทล.3 (กม.ที่ 304+700) - บ.หนองบัว   \n",
              "2           22    จบ.1008      แยก ทล.3 (กม.ที่ 297+300) - บ.สนามไชย   \n",
              "3           22    จบ.1011     แยก ทล.3 (กม.ที่ 292+500) - บ.ช้างข้าม   \n",
              "4           22    จบ.1018      แยก ทล.3 (กม.ที่ 301+500) - บ.คลองลาว   \n",
              "\n",
              "   ระยะทาง(กม.)              หน่วยรับผิดชอบ  ความกว้าง (เลน)  เลน  \\\n",
              "0      10.37570          สทช.3 ขทช.จันทบุรี              3.5    2   \n",
              "1       9.40012          สทช.3 ขทช.จันทบุรี              3.5    2   \n",
              "2      13.98180  สทช.3 บทช.เขาคิชฌกูฎ (จบ.)              3.5    2   \n",
              "3       9.50708  สทช.3 บทช.เขาคิชฌกูฎ (จบ.)              3.5    2   \n",
              "4       8.81050  สทช.3 บทช.เขาคิชฌกูฎ (จบ.)              3.5    2   \n",
              "\n",
              "  วันที่ปรับปรุง  \n",
              "0      10/3/2013  \n",
              "1      10/3/2013  \n",
              "2      10/3/2013  \n",
              "3      10/3/2013  \n",
              "4      10/3/2013  "
            ],
            "text/html": [
              "\n",
              "  <div id=\"df-3fa17dde-d14d-4ff6-a5da-a2848b43ded0\">\n",
              "    <div class=\"colab-df-container\">\n",
              "      <div>\n",
              "<style scoped>\n",
              "    .dataframe tbody tr th:only-of-type {\n",
              "        vertical-align: middle;\n",
              "    }\n",
              "\n",
              "    .dataframe tbody tr th {\n",
              "        vertical-align: top;\n",
              "    }\n",
              "\n",
              "    .dataframe thead th {\n",
              "        text-align: right;\n",
              "    }\n",
              "</style>\n",
              "<table border=\"1\" class=\"dataframe\">\n",
              "  <thead>\n",
              "    <tr style=\"text-align: right;\">\n",
              "      <th></th>\n",
              "      <th>รหัสจังหวัด</th>\n",
              "      <th>รหัสสายทาง</th>\n",
              "      <th>ชื่อสายทาง</th>\n",
              "      <th>ระยะทาง(กม.)</th>\n",
              "      <th>หน่วยรับผิดชอบ</th>\n",
              "      <th>ความกว้าง (เลน)</th>\n",
              "      <th>เลน</th>\n",
              "      <th>วันที่ปรับปรุง</th>\n",
              "    </tr>\n",
              "  </thead>\n",
              "  <tbody>\n",
              "    <tr>\n",
              "      <th>0</th>\n",
              "      <td>22</td>\n",
              "      <td>จบ.3035</td>\n",
              "      <td>แยก ทล.317 (กม.ที่ 21+350) - น้ำตกอ่างเบง</td>\n",
              "      <td>10.37570</td>\n",
              "      <td>สทช.3 ขทช.จันทบุรี</td>\n",
              "      <td>3.5</td>\n",
              "      <td>2</td>\n",
              "      <td>10/3/2013</td>\n",
              "    </tr>\n",
              "    <tr>\n",
              "      <th>1</th>\n",
              "      <td>22</td>\n",
              "      <td>จบ.1003</td>\n",
              "      <td>แยก ทล.3 (กม.ที่ 304+700) - บ.หนองบัว</td>\n",
              "      <td>9.40012</td>\n",
              "      <td>สทช.3 ขทช.จันทบุรี</td>\n",
              "      <td>3.5</td>\n",
              "      <td>2</td>\n",
              "      <td>10/3/2013</td>\n",
              "    </tr>\n",
              "    <tr>\n",
              "      <th>2</th>\n",
              "      <td>22</td>\n",
              "      <td>จบ.1008</td>\n",
              "      <td>แยก ทล.3 (กม.ที่ 297+300) - บ.สนามไชย</td>\n",
              "      <td>13.98180</td>\n",
              "      <td>สทช.3 บทช.เขาคิชฌกูฎ (จบ.)</td>\n",
              "      <td>3.5</td>\n",
              "      <td>2</td>\n",
              "      <td>10/3/2013</td>\n",
              "    </tr>\n",
              "    <tr>\n",
              "      <th>3</th>\n",
              "      <td>22</td>\n",
              "      <td>จบ.1011</td>\n",
              "      <td>แยก ทล.3 (กม.ที่ 292+500) - บ.ช้างข้าม</td>\n",
              "      <td>9.50708</td>\n",
              "      <td>สทช.3 บทช.เขาคิชฌกูฎ (จบ.)</td>\n",
              "      <td>3.5</td>\n",
              "      <td>2</td>\n",
              "      <td>10/3/2013</td>\n",
              "    </tr>\n",
              "    <tr>\n",
              "      <th>4</th>\n",
              "      <td>22</td>\n",
              "      <td>จบ.1018</td>\n",
              "      <td>แยก ทล.3 (กม.ที่ 301+500) - บ.คลองลาว</td>\n",
              "      <td>8.81050</td>\n",
              "      <td>สทช.3 บทช.เขาคิชฌกูฎ (จบ.)</td>\n",
              "      <td>3.5</td>\n",
              "      <td>2</td>\n",
              "      <td>10/3/2013</td>\n",
              "    </tr>\n",
              "  </tbody>\n",
              "</table>\n",
              "</div>\n",
              "      <button class=\"colab-df-convert\" onclick=\"convertToInteractive('df-3fa17dde-d14d-4ff6-a5da-a2848b43ded0')\"\n",
              "              title=\"Convert this dataframe to an interactive table.\"\n",
              "              style=\"display:none;\">\n",
              "        \n",
              "  <svg xmlns=\"http://www.w3.org/2000/svg\" height=\"24px\"viewBox=\"0 0 24 24\"\n",
              "       width=\"24px\">\n",
              "    <path d=\"M0 0h24v24H0V0z\" fill=\"none\"/>\n",
              "    <path d=\"M18.56 5.44l.94 2.06.94-2.06 2.06-.94-2.06-.94-.94-2.06-.94 2.06-2.06.94zm-11 1L8.5 8.5l.94-2.06 2.06-.94-2.06-.94L8.5 2.5l-.94 2.06-2.06.94zm10 10l.94 2.06.94-2.06 2.06-.94-2.06-.94-.94-2.06-.94 2.06-2.06.94z\"/><path d=\"M17.41 7.96l-1.37-1.37c-.4-.4-.92-.59-1.43-.59-.52 0-1.04.2-1.43.59L10.3 9.45l-7.72 7.72c-.78.78-.78 2.05 0 2.83L4 21.41c.39.39.9.59 1.41.59.51 0 1.02-.2 1.41-.59l7.78-7.78 2.81-2.81c.8-.78.8-2.07 0-2.86zM5.41 20L4 18.59l7.72-7.72 1.47 1.35L5.41 20z\"/>\n",
              "  </svg>\n",
              "      </button>\n",
              "      \n",
              "  <style>\n",
              "    .colab-df-container {\n",
              "      display:flex;\n",
              "      flex-wrap:wrap;\n",
              "      gap: 12px;\n",
              "    }\n",
              "\n",
              "    .colab-df-convert {\n",
              "      background-color: #E8F0FE;\n",
              "      border: none;\n",
              "      border-radius: 50%;\n",
              "      cursor: pointer;\n",
              "      display: none;\n",
              "      fill: #1967D2;\n",
              "      height: 32px;\n",
              "      padding: 0 0 0 0;\n",
              "      width: 32px;\n",
              "    }\n",
              "\n",
              "    .colab-df-convert:hover {\n",
              "      background-color: #E2EBFA;\n",
              "      box-shadow: 0px 1px 2px rgba(60, 64, 67, 0.3), 0px 1px 3px 1px rgba(60, 64, 67, 0.15);\n",
              "      fill: #174EA6;\n",
              "    }\n",
              "\n",
              "    [theme=dark] .colab-df-convert {\n",
              "      background-color: #3B4455;\n",
              "      fill: #D2E3FC;\n",
              "    }\n",
              "\n",
              "    [theme=dark] .colab-df-convert:hover {\n",
              "      background-color: #434B5C;\n",
              "      box-shadow: 0px 1px 3px 1px rgba(0, 0, 0, 0.15);\n",
              "      filter: drop-shadow(0px 1px 2px rgba(0, 0, 0, 0.3));\n",
              "      fill: #FFFFFF;\n",
              "    }\n",
              "  </style>\n",
              "\n",
              "      <script>\n",
              "        const buttonEl =\n",
              "          document.querySelector('#df-3fa17dde-d14d-4ff6-a5da-a2848b43ded0 button.colab-df-convert');\n",
              "        buttonEl.style.display =\n",
              "          google.colab.kernel.accessAllowed ? 'block' : 'none';\n",
              "\n",
              "        async function convertToInteractive(key) {\n",
              "          const element = document.querySelector('#df-3fa17dde-d14d-4ff6-a5da-a2848b43ded0');\n",
              "          const dataTable =\n",
              "            await google.colab.kernel.invokeFunction('convertToInteractive',\n",
              "                                                     [key], {});\n",
              "          if (!dataTable) return;\n",
              "\n",
              "          const docLinkHtml = 'Like what you see? Visit the ' +\n",
              "            '<a target=\"_blank\" href=https://colab.research.google.com/notebooks/data_table.ipynb>data table notebook</a>'\n",
              "            + ' to learn more about interactive tables.';\n",
              "          element.innerHTML = '';\n",
              "          dataTable['output_type'] = 'display_data';\n",
              "          await google.colab.output.renderOutput(dataTable, element);\n",
              "          const docLink = document.createElement('div');\n",
              "          docLink.innerHTML = docLinkHtml;\n",
              "          element.appendChild(docLink);\n",
              "        }\n",
              "      </script>\n",
              "    </div>\n",
              "  </div>\n",
              "  "
            ]
          },
          "metadata": {},
          "execution_count": 9
        }
      ]
    },
    {
      "cell_type": "code",
      "source": [
        "df = df.dropna()"
      ],
      "metadata": {
        "id": "xzXVwQuRuiW6"
      },
      "execution_count": 10,
      "outputs": []
    },
    {
      "cell_type": "code",
      "source": [
        "data_sample = df[\"รหัสสายทาง\"]"
      ],
      "metadata": {
        "id": "ADycN_7_uW49"
      },
      "execution_count": 11,
      "outputs": []
    },
    {
      "cell_type": "markdown",
      "source": [
        "# Main source code"
      ],
      "metadata": {
        "id": "Y9zzPxv4D9DF"
      }
    },
    {
      "cell_type": "markdown",
      "source": [
        "## Class Program"
      ],
      "metadata": {
        "id": "iIdam_iiDlyF"
      }
    },
    {
      "cell_type": "markdown",
      "source": [
        "### Class: Type's tree"
      ],
      "metadata": {
        "id": "4rMfZyS30LHz"
      }
    },
    {
      "cell_type": "code",
      "source": [
        "# download Tree of type, json format\n",
        "!gdown 1LIGUjJRCdjV_xh3WzFPEqOgogQNokt16"
      ],
      "metadata": {
        "colab": {
          "base_uri": "https://localhost:8080/"
        },
        "id": "NAo7F08HhQh3",
        "outputId": "7f6a806e-837e-482e-c802-df501202779d"
      },
      "execution_count": 7,
      "outputs": [
        {
          "output_type": "stream",
          "name": "stdout",
          "text": [
            "Downloading...\n",
            "From: https://drive.google.com/uc?id=1LIGUjJRCdjV_xh3WzFPEqOgogQNokt16\n",
            "To: /content/tree-type.json\n",
            "\r  0% 0.00/1.89k [00:00<?, ?B/s]\r100% 1.89k/1.89k [00:00<00:00, 1.47MB/s]\n"
          ]
        }
      ]
    },
    {
      "cell_type": "code",
      "source": [
        "!mkdir datapro\n",
        "!mv /content/tree-type.json datapro"
      ],
      "metadata": {
        "colab": {
          "base_uri": "https://localhost:8080/"
        },
        "id": "xtw3HdUYQQp6",
        "outputId": "7816c4d3-4e97-4606-c807-dada9be16532"
      },
      "execution_count": 8,
      "outputs": [
        {
          "output_type": "stream",
          "name": "stdout",
          "text": [
            "mkdir: cannot create directory ‘datapro’: File exists\n"
          ]
        }
      ]
    },
    {
      "cell_type": "code",
      "source": [
        "import json\n",
        "import re\n",
        "from queue import Queue\n",
        "from pathlib import Path\n",
        "\n",
        "class TreeOfType:\n",
        "  \"\"\"\n",
        "  Instantiate a type's tree.\n",
        "  This tree will used to assignt type to any token.\n",
        "\n",
        "  :param path: path to tree-type store in json format.\n",
        "  :type path: str\n",
        "  \"\"\"\n",
        "\n",
        "  def __init__(self):\n",
        "    self.data = dict()\n",
        "\n",
        "    default_tree_type = Path('datapro/tree-type.json')\n",
        "    self.load_tree_type(default_tree_type)\n",
        "  \n",
        "  def load_tree_type(self, path):\n",
        "    '''\n",
        "      Load new type's tree.\n",
        "\n",
        "      :param path: path where json file store.\n",
        "      :type path: str\n",
        "\n",
        "      :return: The json datastructure as dict\n",
        "      :rtype: dict\n",
        "    '''\n",
        "    filename = Path(path)\n",
        "    if not filename.exists():\n",
        "      print(\"Not found.\")\n",
        "    else :\n",
        "      with open(filename, 'r') as f :\n",
        "        tree = json.load(f)\n",
        "      self.data = tree\n",
        "      self.generate_code()\n",
        "  \n",
        "  def generate_code(self):\n",
        "    '''\n",
        "      Generate code for each node. consist of key and data. lower equal A, B, C ..\n",
        "    '''\n",
        "    _tree_type = self.data\n",
        "\n",
        "    q = Queue()\n",
        "    _tree_type[\"TOKEN\"]['code'] = dict()\n",
        "    _tree_type[\"TOKEN\"][\"code\"][\"key\"] = '@'\n",
        "    _tree_type[\"TOKEN\"][\"code\"][\"data\"] = ''\n",
        "    q.put(\"TOKEN\")\n",
        "    \n",
        "    while not q.empty() :\n",
        "      now_node = q.get()\n",
        "      for i, child in enumerate(_tree_type[now_node]['children']) :\n",
        "        now_key = ord(_tree_type[now_node][\"code\"][\"key\"])\n",
        "        before_data = _tree_type[now_node][\"code\"][\"data\"]\n",
        "        _tree_type[child][\"code\"] = dict()\n",
        "        _tree_type[child][\"code\"][\"key\"] = chr(now_key+1)\n",
        "        _tree_type[child][\"code\"][\"data\"] = before_data + \".\" + chr(now_key+1) + str(i+1)\n",
        "        q.put(child)\n",
        "    self.data = _tree_type\n",
        "      \n",
        "  def fix_format(self, token):\n",
        "    \"\"\"\n",
        "      Fix start and end with only 1 token.\n",
        "\n",
        "      :param token: token\n",
        "      :type token: str\n",
        "\n",
        "      :return: The token after fixed.\n",
        "      :rtype: str\n",
        "    \"\"\"\n",
        "    if len(token)>2 and token[0]=='^' and token[-1]=='$': return re.escape(token)\n",
        "    return \"^\"+re.escape(token)+\"$\"\n",
        "\n",
        "  def unfix_format(self, token) :\n",
        "    \"\"\"\n",
        "      Unfix start and end. deleting \"^\" adn \"$\".\n",
        "\n",
        "      :param token: token\n",
        "      :type token: str\n",
        "\n",
        "      :return: The token after fixed.\n",
        "      :rtype: str\n",
        "    \"\"\"\n",
        "    if len(token)>2 and (token[0]!='^' or token[-1]!='$'): return token\n",
        "    return token[1:-1]\n",
        "\n",
        "  def revese_escape(self, token) :\n",
        "    \"\"\"\n",
        "      :param token: token\n",
        "      :type token: str\n",
        "\n",
        "      :return: The token after fixed.\n",
        "      :rtype: str\n",
        "    \"\"\"\n",
        "    return re.sub(r'\\\\(.)', r'\\1', token)\n",
        "\n",
        "  def follow_by(self, token, tokenT):\n",
        "    \"\"\"\n",
        "      Check whather The tokenT is a generalization of the token.\n",
        "\n",
        "      :param token: Target token.\n",
        "      :type token: str\n",
        "\n",
        "      :param tokenT: Target Type of token\n",
        "      :type tokenT: str\n",
        "\n",
        "      :return: The result of checking.\n",
        "      :rtype: bool\n",
        "    \"\"\"\n",
        "    return re.search(self.data[tokenT][\"regex\"], token)\n",
        "\n",
        "  def sub_generalize(self, token1,token2): # O(1)\n",
        "    \"\"\"\n",
        "      check whether token2 is a generalization of token1\n",
        "\n",
        "      :param token1: Token1.\n",
        "      :type token1: str\n",
        "\n",
        "      :param token2: Token2\n",
        "      :type token2: str\n",
        "\n",
        "      :return: The result of checking.\n",
        "      :rtype: bool\n",
        "    \"\"\"\n",
        "    dif_level = abs(ord(self.data[token1][\"code\"][\"key\"]) - ord(self.data[token2][\"code\"][\"key\"]))\n",
        "    return self.data[token2][\"code\"][\"data\"] in self.data[token1][\"code\"][\"data\"] and dif_level==1\n",
        "\n",
        "  def create_tree_type_node(self, token_name, parent, regex):\n",
        "    \"\"\"\n",
        "      Create new node to the type's tree.\n",
        "\n",
        "      :param token_name: Name of new node.\n",
        "      :type token_name: str\n",
        "\n",
        "      :param parent: The parent node.\n",
        "      :type parent: str\n",
        "\n",
        "      :param regex: Regular expression of this node.\n",
        "      :type regex: str\n",
        "    \"\"\"\n",
        "    self.data[token_name] = dict()\n",
        "    self.data[token_name][\"regex\"] = regex\n",
        "    self.data[token_name][\"children\"] = []\n",
        "    self.data[token_name][\"parent\"] = parent\n",
        "    self.data[token_name][\"code\"] = dict()\n",
        "    self.data[token_name][\"code\"][\"key\"] = chr(ord(self.data[parent][\"code\"][\"key\"]) + 1)\n",
        "    self.data[token_name][\"code\"][\"data\"] = self.data[parent][\"code\"][\"data\"] + \".\" + self.data[token_name][\"code\"][\"key\"] + str(len(self.data[parent][\"children\"]))\n",
        "    self.data[parent][\"children\"].append(token_name)\n",
        "\n",
        "  def assign_type(self, token, grows_tree=False) :\n",
        "    \"\"\"\n",
        "      Assign types to given token.\n",
        "\n",
        "      :param token: The Target token.\n",
        "      :type token: str\n",
        "\n",
        "      :param grows_tree: The state that checkห whether new node can be produced. \n",
        "      :type grows_tree: bool\n",
        "\n",
        "      :return: set of token's types.\n",
        "      :rtype: set\n",
        "    \"\"\"\n",
        "    # time complexity is O(height of type's tree)\n",
        "    types = set()\n",
        "    parent = \"TOKEN\" # last node that matching.\n",
        "\n",
        "    _tree_type = self.data\n",
        "\n",
        "    q = Queue()\n",
        "    for k in _tree_type[\"TOKEN\"][\"children\"] :\n",
        "      q.put(k)\n",
        "\n",
        "    while not q.empty() :\n",
        "      now_type = q.get()\n",
        "      if (now_type not in  _tree_type) : continue\n",
        "      if re.search( _tree_type[now_type][\"regex\"], self.revese_escape(token)) :\n",
        "        types.add(now_type)\n",
        "        parent = now_type\n",
        "        for k in _tree_type[now_type][\"children\"] :\n",
        "          q.put(k)\n",
        "    \n",
        "    if parent==\"DIGIT\" : # new general type\n",
        "      len_token = str(len(token))\n",
        "      new_type = len_token + \"_DIGIT\"\n",
        "      if not new_type in _tree_type :\n",
        "        self.create_tree_type_node(new_type, parent, \"^\\\\d{\" + len_token + \"}$\")\n",
        "        types.add(new_type)\n",
        "\n",
        "    if  _tree_type[parent][\"regex\"] != self.fix_format(parent) and (token not in _tree_type) and grows_tree: # general node\n",
        "        # constuct new special node\n",
        "        self.create_tree_type_node(token, parent, self.fix_format(token))\n",
        "        types.add(token)\n",
        "    return types\n",
        "\n",
        "  def print_space(self, k) :\n",
        "    for i in range(len(k)) :\n",
        "      if k[i][1]:\n",
        "        print(\" \", end=\"\")\n",
        "      else :\n",
        "        print(\"|\", end=\"\")\n",
        "      for j in range(k[i][0]):\n",
        "        print(\" \", end=\"\")\n",
        "\n",
        "  def display(self, root=\"TOKEN\", level=0, stack_space=[]):\n",
        "    \"\"\"\n",
        "      show typs's tree structure display.\n",
        "    \"\"\"\n",
        "    if level == 0:\n",
        "      print(\"---------- Type's Tree -------------\")\n",
        "      print(\"TOKEN\")\n",
        "    cnt = 0\n",
        "    size = len(self.data[root]['children'])\n",
        "    for child in self.data[root]['children'] :\n",
        "      if child in self.data :\n",
        "        self.print_space(stack_space)\n",
        "        if cnt == size-1 :\n",
        "          print(\"└── \" + child)\n",
        "        else :\n",
        "          print(\"├── \" + child)\n",
        "        temp = stack_space.copy()\n",
        "        temp.append([2 + int(len(child)/2), cnt == size-1])\n",
        "        self.display(child, level+1, temp)\n",
        "        cnt+=1\n",
        "    "
      ],
      "metadata": {
        "id": "J37yuMIK0K4j"
      },
      "execution_count": 106,
      "outputs": []
    },
    {
      "cell_type": "code",
      "source": [
        "t = TreeOfType()\n",
        "t.display()"
      ],
      "metadata": {
        "colab": {
          "base_uri": "https://localhost:8080/"
        },
        "id": "yYSw91yY3JZh",
        "outputId": "69c9cd4e-e69b-490f-bbfb-fd865f121990"
      },
      "execution_count": 30,
      "outputs": [
        {
          "output_type": "stream",
          "name": "stdout",
          "text": [
            "datapro/tree-type.json\n",
            "---------- Type's Tree -------------\n",
            "TOKEN\n",
            "├── PUNCT\n",
            "└── ALPHANUM\n",
            "       ├── ALPHA\n",
            "       |    ├── CAPS\n",
            "       |    ├── LOWER\n",
            "       |    └── ALLCAPS\n",
            "       └── NUMBER\n",
            "             ├── DECIMAL\n",
            "             └── INT\n",
            "                 └── DIGIT\n"
          ]
        }
      ]
    },
    {
      "cell_type": "code",
      "source": [
        "# test\n",
        "ex = t.tree_type['DIGIT']['regex']\n",
        "text = '1568'\n",
        "x = re.findall(ex, text)\n",
        "print(ex)"
      ],
      "metadata": {
        "id": "-O9OzCzcfbdc",
        "colab": {
          "base_uri": "https://localhost:8080/"
        },
        "outputId": "380a3fed-b7c2-45ad-ba54-a92854a83cb1"
      },
      "execution_count": 18,
      "outputs": [
        {
          "output_type": "stream",
          "name": "stdout",
          "text": [
            "^\\d+$\n"
          ]
        }
      ]
    },
    {
      "cell_type": "markdown",
      "source": [
        "### Class: Node prefix tree"
      ],
      "metadata": {
        "id": "xpyQIyZQ5mob"
      }
    },
    {
      "cell_type": "code",
      "source": [
        "class Node:\n",
        "  \"\"\"\n",
        "  Instantiate a prefix node.\n",
        "  This will produce prefix tree to find sequence of pattern.\n",
        "\n",
        "  :param token: The token of this node\n",
        "  :type token: str\n",
        "\n",
        "  :param examples: The observations that match with this pattern.\n",
        "  :type examples: list\n",
        "\n",
        "  :param pattern: A list of sequcent pattern.\n",
        "  :type pattern: list\n",
        "\n",
        "  :param parent_regex: Accumulates the regex of up to this node.\n",
        "  :type parent_regex: str\n",
        "\n",
        "  :param next_po: The next position or index that this node will consider.\n",
        "  :type next_po: str\n",
        "\n",
        "  :param parent: The parent node.\n",
        "  :type parent: str\n",
        "  \"\"\"\n",
        "\n",
        "  def __init__(self, token=\"\", examples=[], pattern=[], parent_regex=\"\", next_po=\"\",parent=\"\"):\n",
        "    self.token = token\n",
        "    self.examples = examples\n",
        "    self.count = len(examples)\n",
        "    self.pattern = pattern\n",
        "    self.children = []\n",
        "    self.regex = parent_regex\n",
        "    self.next_po = next_po\n",
        "    self.parent = parent\n",
        "\n",
        "  def info(self):\n",
        "    print(\"token:\", self.token)\n",
        "    print(\"amount of example:\", self.count)\n",
        "    print(\"pattern:\", self.pattern)\n",
        "    print(\"next_po:\", self.next_po)\n",
        "\n",
        "  def get_children_token_type(self, tree_type, dict_token, k):\n",
        "    uniq_token = set()\n",
        "    for ex in self.examples :\n",
        "      # bound range\n",
        "      if len(ex) > self.next_po :\n",
        "          uniq_token.add(ex[self.next_po])\n",
        "    \n",
        "    set_token_type = set()\n",
        "    for token in uniq_token :\n",
        "      is_uniq = (dict_token[token] >= k)\n",
        "      # print(token, dict_token[token], k, is_uniq)\n",
        "      set_token_type = set_token_type.union(tree_type.assign_type(token, is_uniq))\n",
        "    return set_token_type\n",
        "  \n",
        "  def print_space(self, k) :\n",
        "    for i in range(len(k)) :\n",
        "      if k[i][1]:\n",
        "        print(\" \", end=\"\")\n",
        "      else :\n",
        "        print(\"|\", end=\"\")\n",
        "      for j in range(k[i][0]):\n",
        "        print(\" \", end=\"\")\n",
        "\n",
        "  def display(self, level=0, stack_space=[]):\n",
        "    cnt = 0\n",
        "    size = len(self.children)\n",
        "    for child in self.children :\n",
        "      self.print_space(stack_space)\n",
        "      if cnt == size-1 :\n",
        "        print(\"└── \" + child.token)\n",
        "      else :\n",
        "        print(\"├── \" + child.token)\n",
        "      temp = stack_space.copy()\n",
        "      temp.append([2 + int(len(child.token)/2), cnt == size-1])\n",
        "      child.display(level+1, temp)\n",
        "      cnt+=1\n",
        "    \n",
        "  def find(self,name_token) :\n",
        "    for child in self.children :\n",
        "      if child.token == name_token : return child\n",
        "      res = child.find(name_token) \n",
        "      if res : return res\n",
        "    return None"
      ],
      "metadata": {
        "id": "jziMwTRh5lc0"
      },
      "execution_count": 61,
      "outputs": []
    },
    {
      "cell_type": "markdown",
      "source": [
        "### Class Datapro"
      ],
      "metadata": {
        "id": "J-k0VGyg459N"
      }
    },
    {
      "cell_type": "code",
      "source": [
        "# from .prefixNode import Node\n",
        "# from .treeType import TreeOfType\n",
        "\n",
        "from queue import Queue\n",
        "from pythainlp import word_tokenize\n",
        "from scipy.stats import norm\n",
        "import math\n",
        "import re\n",
        "\n",
        "import pandas as pd\n",
        "\n",
        "class DataPro:\n",
        "  \"\"\"\n",
        "  Instantiate a Data pro model.\n",
        "  The model will be trained by given data field, alpha and k_percentage.\n",
        "\n",
        "  :param alpha: The alpha is used to test hypotheses.\n",
        "  :type alpha: float\n",
        "\n",
        "  :param k_percentage: The percentage of occuring data proportion with all token.\n",
        "  :type k_percentage: int\n",
        "  \"\"\"\n",
        "  def __init__(self, alpha=0.05, k_percentage=5):\n",
        "    self.alpha = alpha\n",
        "    self.k_percentage = k_percentage\n",
        "    self.root = Node()\n",
        "    self.tree_type = TreeOfType()\n",
        "    self.res = []\n",
        "    self.data = []\n",
        "    self.tokenize_data = []\n",
        "  \n",
        "  def get_dic_token(self):\n",
        "    # data is a list of list\n",
        "    # O(nm) n = amount of data, m = lenght of each data.\n",
        "    dictT = {}\n",
        "    cnt = 0\n",
        "    for row in self.tokenize_data :\n",
        "      for token in row :\n",
        "        tokenTs = self.tree_type.assign_type(token, False)\n",
        "        tokenTs.add(token)\n",
        "        for tokenT in tokenTs :\n",
        "          if tokenT not in dictT :\n",
        "            dictT[tokenT] = 1\n",
        "          else :\n",
        "            dictT[tokenT] +=1\n",
        "        cnt+=1\n",
        "    return dictT,cnt\n",
        "  \n",
        "  def tokenize(self, data):\n",
        "    s = []\n",
        "    for x in data :\n",
        "      s.append(word_tokenize(str(x)))\n",
        "    return s\n",
        "\n",
        "  def significant(self, count1, count2, num_token, token_count, alpha):\n",
        "    \"\"\"\n",
        "      param:\n",
        "        - count1 : count seq that token C appear after seq Q\n",
        "        - count2 : count seq Q\n",
        "        - num_token : amount of token C\n",
        "        - token_count : amount of all token in data field\n",
        "        - alpha \n",
        "    \"\"\"\n",
        "    p1 = count1 / count2\n",
        "    p2 = num_token / token_count # overall prob of occurrence token T \n",
        "    p_a = (count1 + num_token) / (count2 + token_count)\n",
        "    try :\n",
        "      z = (p1 -p2) / math.sqrt(p_a * (1-p_a) * (1/count2 + 1/token_count))\n",
        "    except :\n",
        "      z = 1e9 # case prop = 1\n",
        "    cdf = norm.cdf(-z, 0, 1) # z-score\n",
        "    return cdf < alpha\n",
        "\n",
        "  def load_tree_type(self, path) :\n",
        "    self.tree_type.load_tree_type(path)\n",
        "  \n",
        "  def fit(self, data) :\n",
        "    self.data = data\n",
        "    self.tokenize_data = self.tokenize(data)\n",
        "    k = int((self.k_percentage/100) * len(self.data)) \n",
        "\n",
        "    q = Queue()\n",
        "    self.root = Node(\"root\", self.tokenize_data, [], \"\", 0, None)\n",
        "    q.put(self.root)\n",
        "\n",
        "\n",
        "    # Knowing how many token occuring in the data before assigned type.\n",
        "    # ** token_count required before all seq token's type are generated. Actualy token\n",
        "    dict_token, token_count = self.get_dic_token()\n",
        "\n",
        "    while not q.empty():\n",
        "        # node Q\n",
        "        Q = q.get()\n",
        "\n",
        "        # Create children Of Q \n",
        "        # Get all posible token that are children of Q\n",
        "        all_token_type = Q.get_children_token_type(self.tree_type, dict_token, k)\n",
        "        for tokenT in all_token_type :\n",
        "          C = Node(tokenT, [], Q.pattern.copy(), Q.regex ,Q.next_po+1, Q)\n",
        "          C.examples = [ex for ex in Q.examples if (Q.next_po < len(ex) and self.tree_type.follow_by(ex[Q.next_po],tokenT))]\n",
        "          C.count = len(C.examples)\n",
        "          C.pattern.append(tokenT)\n",
        "          C.regex += self.tree_type.unfix_format(self.tree_type.data[tokenT][\"regex\"])\n",
        "          if self.significant(C.count, Q.count, dict_token[tokenT], token_count, self.alpha) :\n",
        "            Q.children.append(C)\n",
        "        \n",
        "        # Prune gerneralizations ?\n",
        "        temp_children = []\n",
        "        for C in Q.children :\n",
        "          N = C.count\n",
        "          for S in Q.children :\n",
        "            if S.token != C.token and self.tree_type.sub_generalize(S.token, C.token):\n",
        "              N -= S.count\n",
        "          if self.significant(N, Q.count, dict_token[C.token], token_count, self.alpha) :\n",
        "            temp_children.append(C)\n",
        "            q.put(C)\n",
        "        Q.children = temp_children\n",
        "\n",
        "        # Determinize children of Q\n",
        "        for C in Q.children :\n",
        "          for S in Q.children :\n",
        "            if S.token != C.token and self.tree_type.sub_generalize(S.token, C.token) :\n",
        "              new_examples = []\n",
        "              for x in C.examples :\n",
        "                if x not in S.examples :\n",
        "                  new_examples.append(x)\n",
        "              C.examples = new_examples\n",
        "          C.count = len(C.examples)\n",
        "\n",
        "    # Extract patterns from tree\n",
        "    self.res = []\n",
        "    q = Queue()\n",
        "    q.put(self.root)\n",
        "    while not q.empty() :\n",
        "      Q = q.get()\n",
        "      for C in Q.children :\n",
        "        N = C.count\n",
        "        q.put(C)\n",
        "        for S in C.children :\n",
        "            N-=S.count\n",
        "        if self.significant(N, Q.count, dict_token[C.token], token_count, self.alpha) :\n",
        "          self.res.append(C.pattern)\n",
        "\n",
        "  \"\"\"\n",
        "  Method for seeing the result.\n",
        "  \"\"\"\n",
        "\n",
        "  def display_tree_type(self):\n",
        "    self.tree_type.display()\n",
        "\n",
        "  def display(self):\n",
        "    self.root.display()\n",
        "  \n",
        "  def result(self):\n",
        "    return self.res\n",
        "  \n",
        "  def evaluate_score(self) :\n",
        "    def measure_matching(pattern) :\n",
        "      '''\n",
        "      This function compares the pattern with seq_token_data which is generated after tokenize.\n",
        "      '''\n",
        "      cnt = 0;\n",
        "      size_pattern = len(pattern)\n",
        "      for data in self.tokenize_data :\n",
        "        if size_pattern == len(data) :\n",
        "          is_match = True\n",
        "          for token_i in range(size_pattern) :\n",
        "            if not re.search(self.tree_type.data[pattern[token_i]][\"regex\"], data[token_i]):\n",
        "              is_match = False\n",
        "              break\n",
        "          if is_match: cnt+=1\n",
        "      return cnt/len(self.tokenize_data)\n",
        "    res_df = pd.DataFrame(columns=[\"pattern\", \"score\"])\n",
        "    res_df[\"pattern\"] = self.res\n",
        "    res_df[\"score\"] = res_df[\"pattern\"].apply(lambda x: measure_matching(x))\n",
        "    res_df = res_df.sort_values(by=[\"score\"], ascending=False).reset_index()\n",
        "    res_df.drop(\"index\", axis=1, inplace=True)\n",
        "    return res_df"
      ],
      "metadata": {
        "id": "2UN7zHxmp994"
      },
      "execution_count": 65,
      "outputs": []
    },
    {
      "cell_type": "markdown",
      "source": [
        "# Example"
      ],
      "metadata": {
        "id": "KWBbReqnEI2G"
      }
    },
    {
      "cell_type": "code",
      "source": [
        "from datapro import DataPro\n",
        "# example Data\n",
        "# data_sample = data_sample.astype(str)\n",
        "data_sample"
      ],
      "metadata": {
        "colab": {
          "base_uri": "https://localhost:8080/"
        },
        "id": "a7UypV6fHeXr",
        "outputId": "9212e30e-85cd-4218-f36c-5142ab23fba7"
      },
      "execution_count": 12,
      "outputs": [
        {
          "output_type": "execute_result",
          "data": {
            "text/plain": [
              "0       จบ.3035\n",
              "1       จบ.1003\n",
              "2       จบ.1008\n",
              "3       จบ.1011\n",
              "4       จบ.1018\n",
              "         ...   \n",
              "3259    ขก.2079\n",
              "3263    มค.4017\n",
              "3264    จบ.3019\n",
              "3272    รอ.4002\n",
              "3281    รย.5071\n",
              "Name: รหัสสายทาง, Length: 2036, dtype: object"
            ]
          },
          "metadata": {},
          "execution_count": 12
        }
      ]
    },
    {
      "cell_type": "code",
      "source": [
        "# Create Object DataPro\n",
        "data_pro = DataPro(alpha=0.01, k_percentage=1)\n",
        "\n",
        "# train with data\n",
        "data_pro.fit(data_sample)"
      ],
      "metadata": {
        "id": "Vv8dkz1-ELR5"
      },
      "execution_count": 13,
      "outputs": []
    },
    {
      "cell_type": "code",
      "source": [
        "# show sorted result by matching pattern with data\n",
        "s = data_pro.evaluate_score()\n",
        "s"
      ],
      "metadata": {
        "colab": {
          "base_uri": "https://localhost:8080/",
          "height": 424
        },
        "id": "aGcSRdHJJNCn",
        "outputId": "e3e8fa7c-fcab-48eb-8ad7-8db03d8737db"
      },
      "execution_count": 14,
      "outputs": [
        {
          "output_type": "execute_result",
          "data": {
            "text/plain": [
              "             pattern     score\n",
              "0   [ลบ, ., 4_DIGIT]  0.045187\n",
              "1   [อบ, ., 4_DIGIT]  0.040275\n",
              "2     [ศก., 4_DIGIT]  0.039784\n",
              "3   [ก, จ., 4_DIGIT]  0.038802\n",
              "4   [นม, ., 4_DIGIT]  0.035855\n",
              "..               ...       ...\n",
              "77       [ลย., 4004]  0.000491\n",
              "78     [สห, ., 4004]  0.000491\n",
              "79     [สห, ., 4011]  0.000491\n",
              "80     [ป, จ., 4019]  0.000491\n",
              "81       [ฉช., 4011]  0.000491\n",
              "\n",
              "[82 rows x 2 columns]"
            ],
            "text/html": [
              "\n",
              "  <div id=\"df-43f405f3-f52a-4b0a-b611-4cac7b3a4748\">\n",
              "    <div class=\"colab-df-container\">\n",
              "      <div>\n",
              "<style scoped>\n",
              "    .dataframe tbody tr th:only-of-type {\n",
              "        vertical-align: middle;\n",
              "    }\n",
              "\n",
              "    .dataframe tbody tr th {\n",
              "        vertical-align: top;\n",
              "    }\n",
              "\n",
              "    .dataframe thead th {\n",
              "        text-align: right;\n",
              "    }\n",
              "</style>\n",
              "<table border=\"1\" class=\"dataframe\">\n",
              "  <thead>\n",
              "    <tr style=\"text-align: right;\">\n",
              "      <th></th>\n",
              "      <th>pattern</th>\n",
              "      <th>score</th>\n",
              "    </tr>\n",
              "  </thead>\n",
              "  <tbody>\n",
              "    <tr>\n",
              "      <th>0</th>\n",
              "      <td>[ลบ, ., 4_DIGIT]</td>\n",
              "      <td>0.045187</td>\n",
              "    </tr>\n",
              "    <tr>\n",
              "      <th>1</th>\n",
              "      <td>[อบ, ., 4_DIGIT]</td>\n",
              "      <td>0.040275</td>\n",
              "    </tr>\n",
              "    <tr>\n",
              "      <th>2</th>\n",
              "      <td>[ศก., 4_DIGIT]</td>\n",
              "      <td>0.039784</td>\n",
              "    </tr>\n",
              "    <tr>\n",
              "      <th>3</th>\n",
              "      <td>[ก, จ., 4_DIGIT]</td>\n",
              "      <td>0.038802</td>\n",
              "    </tr>\n",
              "    <tr>\n",
              "      <th>4</th>\n",
              "      <td>[นม, ., 4_DIGIT]</td>\n",
              "      <td>0.035855</td>\n",
              "    </tr>\n",
              "    <tr>\n",
              "      <th>...</th>\n",
              "      <td>...</td>\n",
              "      <td>...</td>\n",
              "    </tr>\n",
              "    <tr>\n",
              "      <th>77</th>\n",
              "      <td>[ลย., 4004]</td>\n",
              "      <td>0.000491</td>\n",
              "    </tr>\n",
              "    <tr>\n",
              "      <th>78</th>\n",
              "      <td>[สห, ., 4004]</td>\n",
              "      <td>0.000491</td>\n",
              "    </tr>\n",
              "    <tr>\n",
              "      <th>79</th>\n",
              "      <td>[สห, ., 4011]</td>\n",
              "      <td>0.000491</td>\n",
              "    </tr>\n",
              "    <tr>\n",
              "      <th>80</th>\n",
              "      <td>[ป, จ., 4019]</td>\n",
              "      <td>0.000491</td>\n",
              "    </tr>\n",
              "    <tr>\n",
              "      <th>81</th>\n",
              "      <td>[ฉช., 4011]</td>\n",
              "      <td>0.000491</td>\n",
              "    </tr>\n",
              "  </tbody>\n",
              "</table>\n",
              "<p>82 rows × 2 columns</p>\n",
              "</div>\n",
              "      <button class=\"colab-df-convert\" onclick=\"convertToInteractive('df-43f405f3-f52a-4b0a-b611-4cac7b3a4748')\"\n",
              "              title=\"Convert this dataframe to an interactive table.\"\n",
              "              style=\"display:none;\">\n",
              "        \n",
              "  <svg xmlns=\"http://www.w3.org/2000/svg\" height=\"24px\"viewBox=\"0 0 24 24\"\n",
              "       width=\"24px\">\n",
              "    <path d=\"M0 0h24v24H0V0z\" fill=\"none\"/>\n",
              "    <path d=\"M18.56 5.44l.94 2.06.94-2.06 2.06-.94-2.06-.94-.94-2.06-.94 2.06-2.06.94zm-11 1L8.5 8.5l.94-2.06 2.06-.94-2.06-.94L8.5 2.5l-.94 2.06-2.06.94zm10 10l.94 2.06.94-2.06 2.06-.94-2.06-.94-.94-2.06-.94 2.06-2.06.94z\"/><path d=\"M17.41 7.96l-1.37-1.37c-.4-.4-.92-.59-1.43-.59-.52 0-1.04.2-1.43.59L10.3 9.45l-7.72 7.72c-.78.78-.78 2.05 0 2.83L4 21.41c.39.39.9.59 1.41.59.51 0 1.02-.2 1.41-.59l7.78-7.78 2.81-2.81c.8-.78.8-2.07 0-2.86zM5.41 20L4 18.59l7.72-7.72 1.47 1.35L5.41 20z\"/>\n",
              "  </svg>\n",
              "      </button>\n",
              "      \n",
              "  <style>\n",
              "    .colab-df-container {\n",
              "      display:flex;\n",
              "      flex-wrap:wrap;\n",
              "      gap: 12px;\n",
              "    }\n",
              "\n",
              "    .colab-df-convert {\n",
              "      background-color: #E8F0FE;\n",
              "      border: none;\n",
              "      border-radius: 50%;\n",
              "      cursor: pointer;\n",
              "      display: none;\n",
              "      fill: #1967D2;\n",
              "      height: 32px;\n",
              "      padding: 0 0 0 0;\n",
              "      width: 32px;\n",
              "    }\n",
              "\n",
              "    .colab-df-convert:hover {\n",
              "      background-color: #E2EBFA;\n",
              "      box-shadow: 0px 1px 2px rgba(60, 64, 67, 0.3), 0px 1px 3px 1px rgba(60, 64, 67, 0.15);\n",
              "      fill: #174EA6;\n",
              "    }\n",
              "\n",
              "    [theme=dark] .colab-df-convert {\n",
              "      background-color: #3B4455;\n",
              "      fill: #D2E3FC;\n",
              "    }\n",
              "\n",
              "    [theme=dark] .colab-df-convert:hover {\n",
              "      background-color: #434B5C;\n",
              "      box-shadow: 0px 1px 3px 1px rgba(0, 0, 0, 0.15);\n",
              "      filter: drop-shadow(0px 1px 2px rgba(0, 0, 0, 0.3));\n",
              "      fill: #FFFFFF;\n",
              "    }\n",
              "  </style>\n",
              "\n",
              "      <script>\n",
              "        const buttonEl =\n",
              "          document.querySelector('#df-43f405f3-f52a-4b0a-b611-4cac7b3a4748 button.colab-df-convert');\n",
              "        buttonEl.style.display =\n",
              "          google.colab.kernel.accessAllowed ? 'block' : 'none';\n",
              "\n",
              "        async function convertToInteractive(key) {\n",
              "          const element = document.querySelector('#df-43f405f3-f52a-4b0a-b611-4cac7b3a4748');\n",
              "          const dataTable =\n",
              "            await google.colab.kernel.invokeFunction('convertToInteractive',\n",
              "                                                     [key], {});\n",
              "          if (!dataTable) return;\n",
              "\n",
              "          const docLinkHtml = 'Like what you see? Visit the ' +\n",
              "            '<a target=\"_blank\" href=https://colab.research.google.com/notebooks/data_table.ipynb>data table notebook</a>'\n",
              "            + ' to learn more about interactive tables.';\n",
              "          element.innerHTML = '';\n",
              "          dataTable['output_type'] = 'display_data';\n",
              "          await google.colab.output.renderOutput(dataTable, element);\n",
              "          const docLink = document.createElement('div');\n",
              "          docLink.innerHTML = docLinkHtml;\n",
              "          element.appendChild(docLink);\n",
              "        }\n",
              "      </script>\n",
              "    </div>\n",
              "  </div>\n",
              "  "
            ]
          },
          "metadata": {},
          "execution_count": 14
        }
      ]
    },
    {
      "cell_type": "code",
      "source": [
        "# show result\n",
        "data_pro.result()"
      ],
      "metadata": {
        "id": "KZi2vElz794d",
        "colab": {
          "base_uri": "https://localhost:8080/"
        },
        "outputId": "301f4b58-ff6b-4859-ec9a-70d6e3efbfdd"
      },
      "execution_count": 15,
      "outputs": [
        {
          "output_type": "execute_result",
          "data": {
            "text/plain": [
              "[['ลย.', '4_DIGIT'],\n",
              " ['ลย.', '4004'],\n",
              " ['รย.', '4_DIGIT'],\n",
              " ['สค.', '4010'],\n",
              " ['สค.', '4_DIGIT'],\n",
              " ['ยส.', '4010'],\n",
              " ['ยส.', '4_DIGIT'],\n",
              " ['ยส.', '4011'],\n",
              " ['ยส.', '4019'],\n",
              " ['ยส.', '4004'],\n",
              " ['กพ.', '4_DIGIT'],\n",
              " ['ตร.', '4010'],\n",
              " ['ตร.', '4_DIGIT'],\n",
              " ['ตร.', '4019'],\n",
              " ['พช.', '4_DIGIT'],\n",
              " ['อย.', '4_DIGIT'],\n",
              " ['ปข.', '4_DIGIT'],\n",
              " ['ชพ.', '4_DIGIT'],\n",
              " ['ฉช.', '4008'],\n",
              " ['ฉช.', '4_DIGIT'],\n",
              " ['ฉช.', '4011'],\n",
              " ['ชม.', '4_DIGIT'],\n",
              " ['ปท.', '4_DIGIT'],\n",
              " ['อต.', '4_DIGIT'],\n",
              " ['อต.', '4019'],\n",
              " ['ศก.', '4_DIGIT'],\n",
              " ['รบ.', '4_DIGIT'],\n",
              " ['รอ.', '4_DIGIT'],\n",
              " ['อจ.', '4_DIGIT'],\n",
              " ['อจ.', '4011'],\n",
              " ['อจ.', '4019'],\n",
              " ['อจ.', '4004'],\n",
              " ['อท.', '4010'],\n",
              " ['อท.', '4008'],\n",
              " ['อท.', '4_DIGIT'],\n",
              " ['อท.', '4004'],\n",
              " ['มค.', '4_DIGIT'],\n",
              " ['สส.', '4_DIGIT'],\n",
              " ['สส.', '4004'],\n",
              " ['สท.', '4_DIGIT'],\n",
              " ['พร', '.', '4_DIGIT'],\n",
              " ['สก', '.', '4_DIGIT'],\n",
              " ['กบ', '.', '4_DIGIT'],\n",
              " ['อบ', '.', '4_DIGIT'],\n",
              " ['ป', 'จ.', '4_DIGIT'],\n",
              " ['ป', 'จ.', '4019'],\n",
              " ['ก', 'จ.', '4_DIGIT'],\n",
              " ['ก', 'จ.', '4004'],\n",
              " ['สห', '.', '4_DIGIT'],\n",
              " ['สห', '.', '4011'],\n",
              " ['สห', '.', '4004'],\n",
              " ['พ', 'จ.', '4_DIGIT'],\n",
              " ['ช', 'บ.', '4_DIGIT'],\n",
              " ['ตก', '.', '4008'],\n",
              " ['ตก', '.', '4018'],\n",
              " ['ตก', '.', '4_DIGIT'],\n",
              " ['ตก', '.', '4011'],\n",
              " ['พบ', '.', '4008'],\n",
              " ['พบ', '.', '4_DIGIT'],\n",
              " ['พบ', '.', '4011'],\n",
              " ['พบ', '.', '4019'],\n",
              " ['สบ', '.', '4_DIGIT'],\n",
              " ['นม', '.', '4_DIGIT'],\n",
              " ['พล', '.', '4018'],\n",
              " ['พล', '.', '4_DIGIT'],\n",
              " ['บร', '.', '4_DIGIT'],\n",
              " ['สร', '.', '4_DIGIT'],\n",
              " ['ลบ', '.', '4_DIGIT'],\n",
              " ['จบ', '.', '4_DIGIT'],\n",
              " ['ชย', '.', '4_DIGIT'],\n",
              " ['นว', '.', '4_DIGIT'],\n",
              " ['อน', '.', '4010'],\n",
              " ['อน', '.', '4008'],\n",
              " ['อน', '.', '4018'],\n",
              " ['อน', '.', '4_DIGIT'],\n",
              " ['อน', '.', '4004'],\n",
              " ['นย', '.', '4008'],\n",
              " ['นย', '.', '4_DIGIT'],\n",
              " ['ข', 'ก.', '4_DIGIT'],\n",
              " ['นบ', '.', '4018'],\n",
              " ['นบ', '.', '4_DIGIT'],\n",
              " ['ชน', '.', '4_DIGIT']]"
            ]
          },
          "metadata": {},
          "execution_count": 15
        }
      ]
    },
    {
      "cell_type": "code",
      "source": [
        "s[\"pattern\"][0]"
      ],
      "metadata": {
        "colab": {
          "base_uri": "https://localhost:8080/"
        },
        "id": "uNnikrgUmSuD",
        "outputId": "d5c65ae5-1f53-46c4-9390-dc2dff5489c6"
      },
      "execution_count": 103,
      "outputs": [
        {
          "output_type": "execute_result",
          "data": {
            "text/plain": [
              "['10', '/', '3', '/', '2013']"
            ]
          },
          "metadata": {},
          "execution_count": 103
        }
      ]
    },
    {
      "cell_type": "code",
      "source": [
        "# display prefix tree structure\n",
        "data_pro.display()"
      ],
      "metadata": {
        "id": "PuH2Had_qJL_",
        "colab": {
          "base_uri": "https://localhost:8080/"
        },
        "outputId": "8ad0c577-5f67-4ae2-ee4c-672c9abff762"
      },
      "execution_count": 19,
      "outputs": [
        {
          "output_type": "stream",
          "name": "stdout",
          "text": [
            "├── ลย.\n",
            "|   ├── 4_DIGIT\n",
            "|   └── 4004\n",
            "├── พร\n",
            "|   └── .\n",
            "|      └── 4_DIGIT\n",
            "├── สก\n",
            "|   └── .\n",
            "|      └── 4_DIGIT\n",
            "├── กบ\n",
            "|   └── .\n",
            "|      └── 4_DIGIT\n",
            "├── รย.\n",
            "|   └── 4_DIGIT\n",
            "├── อบ\n",
            "|   └── .\n",
            "|      └── 4_DIGIT\n",
            "├── ป\n",
            "|  └── จ.\n",
            "|      ├── 4_DIGIT\n",
            "|      └── 4019\n",
            "├── ก\n",
            "|  └── จ.\n",
            "|      ├── 4_DIGIT\n",
            "|      └── 4004\n",
            "├── สค.\n",
            "|   ├── 4010\n",
            "|   └── 4_DIGIT\n",
            "├── ยส.\n",
            "|   ├── 4010\n",
            "|   ├── 4_DIGIT\n",
            "|   ├── 4011\n",
            "|   ├── 4019\n",
            "|   └── 4004\n",
            "├── กพ.\n",
            "|   └── 4_DIGIT\n",
            "├── สห\n",
            "|   └── .\n",
            "|      ├── 4_DIGIT\n",
            "|      ├── 4011\n",
            "|      └── 4004\n",
            "├── ตร.\n",
            "|   ├── 4010\n",
            "|   ├── 4_DIGIT\n",
            "|   └── 4019\n",
            "├── พ\n",
            "|  └── จ.\n",
            "|      └── 4_DIGIT\n",
            "├── พช.\n",
            "|   └── 4_DIGIT\n",
            "├── อย.\n",
            "|   └── 4_DIGIT\n",
            "├── ช\n",
            "|  └── บ.\n",
            "|      └── 4_DIGIT\n",
            "├── ปข.\n",
            "|   └── 4_DIGIT\n",
            "├── ตก\n",
            "|   └── .\n",
            "|      ├── 4008\n",
            "|      ├── 4018\n",
            "|      ├── 4_DIGIT\n",
            "|      └── 4011\n",
            "├── พบ\n",
            "|   └── .\n",
            "|      ├── 4008\n",
            "|      ├── 4_DIGIT\n",
            "|      ├── 4011\n",
            "|      └── 4019\n",
            "├── สบ\n",
            "|   └── .\n",
            "|      └── 4_DIGIT\n",
            "├── นม\n",
            "|   └── .\n",
            "|      └── 4_DIGIT\n",
            "├── พล\n",
            "|   └── .\n",
            "|      ├── 4018\n",
            "|      └── 4_DIGIT\n",
            "├── บร\n",
            "|   └── .\n",
            "|      └── 4_DIGIT\n",
            "├── ชพ.\n",
            "|   └── 4_DIGIT\n",
            "├── ฉช.\n",
            "|   ├── 4008\n",
            "|   ├── 4_DIGIT\n",
            "|   └── 4011\n",
            "├── ชม.\n",
            "|   └── 4_DIGIT\n",
            "├── สร\n",
            "|   └── .\n",
            "|      └── 4_DIGIT\n",
            "├── ปท.\n",
            "|   └── 4_DIGIT\n",
            "├── อต.\n",
            "|   ├── 4_DIGIT\n",
            "|   └── 4019\n",
            "├── ศก.\n",
            "|   └── 4_DIGIT\n",
            "├── ลบ\n",
            "|   └── .\n",
            "|      └── 4_DIGIT\n",
            "├── รบ.\n",
            "|   └── 4_DIGIT\n",
            "├── รอ.\n",
            "|   └── 4_DIGIT\n",
            "├── จบ\n",
            "|   └── .\n",
            "|      └── 4_DIGIT\n",
            "├── ชย\n",
            "|   └── .\n",
            "|      └── 4_DIGIT\n",
            "├── นว\n",
            "|   └── .\n",
            "|      └── 4_DIGIT\n",
            "├── อน\n",
            "|   └── .\n",
            "|      ├── 4010\n",
            "|      ├── 4008\n",
            "|      ├── 4018\n",
            "|      ├── 4_DIGIT\n",
            "|      └── 4004\n",
            "├── นย\n",
            "|   └── .\n",
            "|      ├── 4008\n",
            "|      └── 4_DIGIT\n",
            "├── อจ.\n",
            "|   ├── 4_DIGIT\n",
            "|   ├── 4011\n",
            "|   ├── 4019\n",
            "|   └── 4004\n",
            "├── ข\n",
            "|  └── ก.\n",
            "|      └── 4_DIGIT\n",
            "├── นบ\n",
            "|   └── .\n",
            "|      ├── 4018\n",
            "|      └── 4_DIGIT\n",
            "├── อท.\n",
            "|   ├── 4010\n",
            "|   ├── 4008\n",
            "|   ├── 4_DIGIT\n",
            "|   └── 4004\n",
            "├── มค.\n",
            "|   └── 4_DIGIT\n",
            "├── ชน\n",
            "|   └── .\n",
            "|      └── 4_DIGIT\n",
            "├── สส.\n",
            "|   ├── 4_DIGIT\n",
            "|   └── 4004\n",
            "└── สท.\n",
            "    └── 4_DIGIT\n"
          ]
        }
      ]
    },
    {
      "cell_type": "code",
      "source": [
        "data_pro.load_tree_type(\"/content/tree-type - Copy.json\")"
      ],
      "metadata": {
        "id": "t3h_tsr8VvQu"
      },
      "execution_count": 16,
      "outputs": []
    },
    {
      "cell_type": "code",
      "source": [
        "data_pro.display_tree_type()"
      ],
      "metadata": {
        "colab": {
          "base_uri": "https://localhost:8080/"
        },
        "id": "wE94HdmywwX4",
        "outputId": "7f3a38a3-d277-4ee3-c7e8-1013be1bec19"
      },
      "execution_count": 18,
      "outputs": [
        {
          "output_type": "stream",
          "name": "stdout",
          "text": [
            "---------- Type's Tree -------------\n",
            "TOKEN\n",
            "├── PUNCT\n",
            "└── ALPHANUM\n",
            "       ├── ALPHA\n",
            "       |    ├── CAPS\n",
            "       |    ├── LOWER\n",
            "       |    └── ALLCAPS\n",
            "       └── NUMBER\n",
            "             ├── DECIMAL\n",
            "             └── INT\n",
            "                 └── DIGIT\n"
          ]
        }
      ]
    }
  ]
}