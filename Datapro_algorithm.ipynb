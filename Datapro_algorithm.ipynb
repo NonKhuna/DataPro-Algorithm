{
  "nbformat": 4,
  "nbformat_minor": 0,
  "metadata": {
    "colab": {
      "name": "Datapro-algorithm.ipynb",
      "provenance": [],
      "collapsed_sections": [
        "hsyw5vRB97TM"
      ],
      "toc_visible": true,
      "authorship_tag": "ABX9TyOJRtH33kgDM1AnumNUVM6T",
      "include_colab_link": true
    },
    "kernelspec": {
      "name": "python3",
      "display_name": "Python 3"
    },
    "language_info": {
      "name": "python"
    }
  },
  "cells": [
    {
      "cell_type": "markdown",
      "metadata": {
        "id": "view-in-github",
        "colab_type": "text"
      },
      "source": [
        "<a href=\"https://colab.research.google.com/github/NonKhuna/DataPro-Algorithm/blob/main/Datapro_algorithm.ipynb\" target=\"_parent\"><img src=\"https://colab.research.google.com/assets/colab-badge.svg\" alt=\"Open In Colab\"/></a>"
      ]
    },
    {
      "cell_type": "markdown",
      "source": [
        "This colab is a program that was implemented according to https://www.aaai.org/Papers/AAAI/2000/AAAI00-093.pdf. "
      ],
      "metadata": {
        "id": "KyUC9Hpp3wvn"
      }
    },
    {
      "cell_type": "markdown",
      "source": [
        "# **Import**"
      ],
      "metadata": {
        "id": "1d1m-Kh14h3g"
      }
    },
    {
      "cell_type": "markdown",
      "source": [
        "## library"
      ],
      "metadata": {
        "id": "hsyw5vRB97TM"
      }
    },
    {
      "cell_type": "code",
      "execution_count": null,
      "metadata": {
        "id": "QjD7jaliPRDE"
      },
      "outputs": [],
      "source": [
        "import numpy as  np\n",
        "import pandas as pd\n",
        "import json\n",
        "import re\n",
        "\n",
        "from queue import Queue\n",
        "\n",
        "import math\n",
        "from scipy.stats import norm\n",
        "import ipywidgets as widgets"
      ]
    },
    {
      "cell_type": "code",
      "source": [
        "import nltk\n",
        "nltk.download('punkt')"
      ],
      "metadata": {
        "colab": {
          "base_uri": "https://localhost:8080/"
        },
        "id": "U7jYphjEIKBd",
        "outputId": "dff21334-78f6-44e4-9db9-aed4cb097631"
      },
      "execution_count": null,
      "outputs": [
        {
          "output_type": "stream",
          "name": "stderr",
          "text": [
            "[nltk_data] Downloading package punkt to /root/nltk_data...\n",
            "[nltk_data]   Unzipping tokenizers/punkt.zip.\n"
          ]
        },
        {
          "output_type": "execute_result",
          "data": {
            "text/plain": [
              "True"
            ]
          },
          "metadata": {},
          "execution_count": 2
        }
      ]
    },
    {
      "cell_type": "markdown",
      "source": [
        "## Preprocess Data"
      ],
      "metadata": {
        "id": "Tl8g5Qa6-BYt"
      }
    },
    {
      "cell_type": "markdown",
      "source": [
        "### Synthesize Data\n",
        "create Data field from column concatination.\n",
        "Ex. \"(-149.4574493, 61.4079146), 20757 OBERG RD, 99567\""
      ],
      "metadata": {
        "id": "srdu13OaGx-Z"
      }
    },
    {
      "cell_type": "code",
      "source": [
        "# download Data. Copy from https://www.kaggle.com/datasets/openaddresses/openaddresses-us-west\n",
        "!gdown 1q9hiop-8aWnqfxSHX-s4fWgAU1aXsZ37"
      ],
      "metadata": {
        "colab": {
          "base_uri": "https://localhost:8080/"
        },
        "id": "rJypTCmK-KHi",
        "outputId": "d0abb1bb-24b6-4559-d4d1-71e48ac0e4ea"
      },
      "execution_count": null,
      "outputs": [
        {
          "output_type": "stream",
          "name": "stdout",
          "text": [
            "Downloading...\n",
            "From: https://drive.google.com/uc?id=1q9hiop-8aWnqfxSHX-s4fWgAU1aXsZ37\n",
            "To: /content/ak.csv\n",
            "\r  0% 0.00/20.9M [00:00<?, ?B/s]\r 43% 8.91M/20.9M [00:00<00:00, 60.6MB/s]\r100% 20.9M/20.9M [00:00<00:00, 106MB/s] \n"
          ]
        }
      ]
    },
    {
      "cell_type": "code",
      "source": [
        "df = pd.read_csv('ak.csv')\n",
        "df.head()"
      ],
      "metadata": {
        "colab": {
          "base_uri": "https://localhost:8080/",
          "height": 241
        },
        "id": "9JqqFzf-BEXu",
        "outputId": "a621b48b-b87f-44ac-b802-accb2d9597a2"
      },
      "execution_count": null,
      "outputs": [
        {
          "output_type": "stream",
          "name": "stderr",
          "text": [
            "/usr/local/lib/python3.7/dist-packages/IPython/core/interactiveshell.py:2882: DtypeWarning: Columns (2,4,5,7,8) have mixed types.Specify dtype option on import or set low_memory=False.\n",
            "  exec(code_obj, self.user_global_ns, self.user_ns)\n"
          ]
        },
        {
          "output_type": "execute_result",
          "data": {
            "text/plain": [
              "          LON        LAT NUMBER           STREET   UNIT CITY  DISTRICT REGION  \\\n",
              "0 -149.362137  61.455872  26101    OLD GLENN HWY  TOWER  NaN       NaN    NaN   \n",
              "1 -149.234243  61.441350  34709  EKLUTNA LAKE RD    NaN  NaN       NaN    NaN   \n",
              "2 -149.211979  61.430535  35851  EKLUTNA LAKE RD    NaN  NaN       NaN    NaN   \n",
              "3 -149.212491  61.429942  35845  EKLUTNA LAKE RD    NaN  NaN       NaN    NaN   \n",
              "4 -149.273845  61.453997  32551  EKLUTNA LAKE RD    NaN  NaN       NaN    NaN   \n",
              "\n",
              "  POSTCODE  ID              HASH  \n",
              "0    99567 NaN  95223943e9d286f2  \n",
              "1    99567 NaN  a736e3cf617bca0b  \n",
              "2    99567 NaN  7835b7a8e22af7a1  \n",
              "3    99567 NaN  58d5678c231cfc40  \n",
              "4    99567 NaN  0358d1b7a2b39d1f  "
            ],
            "text/html": [
              "\n",
              "  <div id=\"df-7fc4259f-65d3-44f3-b835-6f2cd2d30e31\">\n",
              "    <div class=\"colab-df-container\">\n",
              "      <div>\n",
              "<style scoped>\n",
              "    .dataframe tbody tr th:only-of-type {\n",
              "        vertical-align: middle;\n",
              "    }\n",
              "\n",
              "    .dataframe tbody tr th {\n",
              "        vertical-align: top;\n",
              "    }\n",
              "\n",
              "    .dataframe thead th {\n",
              "        text-align: right;\n",
              "    }\n",
              "</style>\n",
              "<table border=\"1\" class=\"dataframe\">\n",
              "  <thead>\n",
              "    <tr style=\"text-align: right;\">\n",
              "      <th></th>\n",
              "      <th>LON</th>\n",
              "      <th>LAT</th>\n",
              "      <th>NUMBER</th>\n",
              "      <th>STREET</th>\n",
              "      <th>UNIT</th>\n",
              "      <th>CITY</th>\n",
              "      <th>DISTRICT</th>\n",
              "      <th>REGION</th>\n",
              "      <th>POSTCODE</th>\n",
              "      <th>ID</th>\n",
              "      <th>HASH</th>\n",
              "    </tr>\n",
              "  </thead>\n",
              "  <tbody>\n",
              "    <tr>\n",
              "      <th>0</th>\n",
              "      <td>-149.362137</td>\n",
              "      <td>61.455872</td>\n",
              "      <td>26101</td>\n",
              "      <td>OLD GLENN HWY</td>\n",
              "      <td>TOWER</td>\n",
              "      <td>NaN</td>\n",
              "      <td>NaN</td>\n",
              "      <td>NaN</td>\n",
              "      <td>99567</td>\n",
              "      <td>NaN</td>\n",
              "      <td>95223943e9d286f2</td>\n",
              "    </tr>\n",
              "    <tr>\n",
              "      <th>1</th>\n",
              "      <td>-149.234243</td>\n",
              "      <td>61.441350</td>\n",
              "      <td>34709</td>\n",
              "      <td>EKLUTNA LAKE RD</td>\n",
              "      <td>NaN</td>\n",
              "      <td>NaN</td>\n",
              "      <td>NaN</td>\n",
              "      <td>NaN</td>\n",
              "      <td>99567</td>\n",
              "      <td>NaN</td>\n",
              "      <td>a736e3cf617bca0b</td>\n",
              "    </tr>\n",
              "    <tr>\n",
              "      <th>2</th>\n",
              "      <td>-149.211979</td>\n",
              "      <td>61.430535</td>\n",
              "      <td>35851</td>\n",
              "      <td>EKLUTNA LAKE RD</td>\n",
              "      <td>NaN</td>\n",
              "      <td>NaN</td>\n",
              "      <td>NaN</td>\n",
              "      <td>NaN</td>\n",
              "      <td>99567</td>\n",
              "      <td>NaN</td>\n",
              "      <td>7835b7a8e22af7a1</td>\n",
              "    </tr>\n",
              "    <tr>\n",
              "      <th>3</th>\n",
              "      <td>-149.212491</td>\n",
              "      <td>61.429942</td>\n",
              "      <td>35845</td>\n",
              "      <td>EKLUTNA LAKE RD</td>\n",
              "      <td>NaN</td>\n",
              "      <td>NaN</td>\n",
              "      <td>NaN</td>\n",
              "      <td>NaN</td>\n",
              "      <td>99567</td>\n",
              "      <td>NaN</td>\n",
              "      <td>58d5678c231cfc40</td>\n",
              "    </tr>\n",
              "    <tr>\n",
              "      <th>4</th>\n",
              "      <td>-149.273845</td>\n",
              "      <td>61.453997</td>\n",
              "      <td>32551</td>\n",
              "      <td>EKLUTNA LAKE RD</td>\n",
              "      <td>NaN</td>\n",
              "      <td>NaN</td>\n",
              "      <td>NaN</td>\n",
              "      <td>NaN</td>\n",
              "      <td>99567</td>\n",
              "      <td>NaN</td>\n",
              "      <td>0358d1b7a2b39d1f</td>\n",
              "    </tr>\n",
              "  </tbody>\n",
              "</table>\n",
              "</div>\n",
              "      <button class=\"colab-df-convert\" onclick=\"convertToInteractive('df-7fc4259f-65d3-44f3-b835-6f2cd2d30e31')\"\n",
              "              title=\"Convert this dataframe to an interactive table.\"\n",
              "              style=\"display:none;\">\n",
              "        \n",
              "  <svg xmlns=\"http://www.w3.org/2000/svg\" height=\"24px\"viewBox=\"0 0 24 24\"\n",
              "       width=\"24px\">\n",
              "    <path d=\"M0 0h24v24H0V0z\" fill=\"none\"/>\n",
              "    <path d=\"M18.56 5.44l.94 2.06.94-2.06 2.06-.94-2.06-.94-.94-2.06-.94 2.06-2.06.94zm-11 1L8.5 8.5l.94-2.06 2.06-.94-2.06-.94L8.5 2.5l-.94 2.06-2.06.94zm10 10l.94 2.06.94-2.06 2.06-.94-2.06-.94-.94-2.06-.94 2.06-2.06.94z\"/><path d=\"M17.41 7.96l-1.37-1.37c-.4-.4-.92-.59-1.43-.59-.52 0-1.04.2-1.43.59L10.3 9.45l-7.72 7.72c-.78.78-.78 2.05 0 2.83L4 21.41c.39.39.9.59 1.41.59.51 0 1.02-.2 1.41-.59l7.78-7.78 2.81-2.81c.8-.78.8-2.07 0-2.86zM5.41 20L4 18.59l7.72-7.72 1.47 1.35L5.41 20z\"/>\n",
              "  </svg>\n",
              "      </button>\n",
              "      \n",
              "  <style>\n",
              "    .colab-df-container {\n",
              "      display:flex;\n",
              "      flex-wrap:wrap;\n",
              "      gap: 12px;\n",
              "    }\n",
              "\n",
              "    .colab-df-convert {\n",
              "      background-color: #E8F0FE;\n",
              "      border: none;\n",
              "      border-radius: 50%;\n",
              "      cursor: pointer;\n",
              "      display: none;\n",
              "      fill: #1967D2;\n",
              "      height: 32px;\n",
              "      padding: 0 0 0 0;\n",
              "      width: 32px;\n",
              "    }\n",
              "\n",
              "    .colab-df-convert:hover {\n",
              "      background-color: #E2EBFA;\n",
              "      box-shadow: 0px 1px 2px rgba(60, 64, 67, 0.3), 0px 1px 3px 1px rgba(60, 64, 67, 0.15);\n",
              "      fill: #174EA6;\n",
              "    }\n",
              "\n",
              "    [theme=dark] .colab-df-convert {\n",
              "      background-color: #3B4455;\n",
              "      fill: #D2E3FC;\n",
              "    }\n",
              "\n",
              "    [theme=dark] .colab-df-convert:hover {\n",
              "      background-color: #434B5C;\n",
              "      box-shadow: 0px 1px 3px 1px rgba(0, 0, 0, 0.15);\n",
              "      filter: drop-shadow(0px 1px 2px rgba(0, 0, 0, 0.3));\n",
              "      fill: #FFFFFF;\n",
              "    }\n",
              "  </style>\n",
              "\n",
              "      <script>\n",
              "        const buttonEl =\n",
              "          document.querySelector('#df-7fc4259f-65d3-44f3-b835-6f2cd2d30e31 button.colab-df-convert');\n",
              "        buttonEl.style.display =\n",
              "          google.colab.kernel.accessAllowed ? 'block' : 'none';\n",
              "\n",
              "        async function convertToInteractive(key) {\n",
              "          const element = document.querySelector('#df-7fc4259f-65d3-44f3-b835-6f2cd2d30e31');\n",
              "          const dataTable =\n",
              "            await google.colab.kernel.invokeFunction('convertToInteractive',\n",
              "                                                     [key], {});\n",
              "          if (!dataTable) return;\n",
              "\n",
              "          const docLinkHtml = 'Like what you see? Visit the ' +\n",
              "            '<a target=\"_blank\" href=https://colab.research.google.com/notebooks/data_table.ipynb>data table notebook</a>'\n",
              "            + ' to learn more about interactive tables.';\n",
              "          element.innerHTML = '';\n",
              "          dataTable['output_type'] = 'display_data';\n",
              "          await google.colab.output.renderOutput(dataTable, element);\n",
              "          const docLink = document.createElement('div');\n",
              "          docLink.innerHTML = docLinkHtml;\n",
              "          element.appendChild(docLink);\n",
              "        }\n",
              "      </script>\n",
              "    </div>\n",
              "  </div>\n",
              "  "
            ]
          },
          "metadata": {},
          "execution_count": 4
        }
      ]
    },
    {
      "cell_type": "code",
      "source": [
        "# drop column DISTRICT, ID and HASH\n",
        "df2 = df.drop(['DISTRICT',\"ID\", \"HASH\"], axis=1)\n",
        "\n",
        "# fill null value with \"\"\n",
        "df2.fillna(\"\", inplace = True)\n",
        "\n",
        "df2.head()"
      ],
      "metadata": {
        "colab": {
          "base_uri": "https://localhost:8080/",
          "height": 206
        },
        "id": "XsYCSDXOB8mt",
        "outputId": "0bb815a9-de8a-4d53-d9c5-0f595f7f5a30"
      },
      "execution_count": null,
      "outputs": [
        {
          "output_type": "execute_result",
          "data": {
            "text/plain": [
              "          LON        LAT NUMBER           STREET   UNIT CITY REGION POSTCODE\n",
              "0 -149.362137  61.455872  26101    OLD GLENN HWY  TOWER                99567\n",
              "1 -149.234243  61.441350  34709  EKLUTNA LAKE RD                       99567\n",
              "2 -149.211979  61.430535  35851  EKLUTNA LAKE RD                       99567\n",
              "3 -149.212491  61.429942  35845  EKLUTNA LAKE RD                       99567\n",
              "4 -149.273845  61.453997  32551  EKLUTNA LAKE RD                       99567"
            ],
            "text/html": [
              "\n",
              "  <div id=\"df-55d299ae-d767-4654-9afe-613c7a1f75e0\">\n",
              "    <div class=\"colab-df-container\">\n",
              "      <div>\n",
              "<style scoped>\n",
              "    .dataframe tbody tr th:only-of-type {\n",
              "        vertical-align: middle;\n",
              "    }\n",
              "\n",
              "    .dataframe tbody tr th {\n",
              "        vertical-align: top;\n",
              "    }\n",
              "\n",
              "    .dataframe thead th {\n",
              "        text-align: right;\n",
              "    }\n",
              "</style>\n",
              "<table border=\"1\" class=\"dataframe\">\n",
              "  <thead>\n",
              "    <tr style=\"text-align: right;\">\n",
              "      <th></th>\n",
              "      <th>LON</th>\n",
              "      <th>LAT</th>\n",
              "      <th>NUMBER</th>\n",
              "      <th>STREET</th>\n",
              "      <th>UNIT</th>\n",
              "      <th>CITY</th>\n",
              "      <th>REGION</th>\n",
              "      <th>POSTCODE</th>\n",
              "    </tr>\n",
              "  </thead>\n",
              "  <tbody>\n",
              "    <tr>\n",
              "      <th>0</th>\n",
              "      <td>-149.362137</td>\n",
              "      <td>61.455872</td>\n",
              "      <td>26101</td>\n",
              "      <td>OLD GLENN HWY</td>\n",
              "      <td>TOWER</td>\n",
              "      <td></td>\n",
              "      <td></td>\n",
              "      <td>99567</td>\n",
              "    </tr>\n",
              "    <tr>\n",
              "      <th>1</th>\n",
              "      <td>-149.234243</td>\n",
              "      <td>61.441350</td>\n",
              "      <td>34709</td>\n",
              "      <td>EKLUTNA LAKE RD</td>\n",
              "      <td></td>\n",
              "      <td></td>\n",
              "      <td></td>\n",
              "      <td>99567</td>\n",
              "    </tr>\n",
              "    <tr>\n",
              "      <th>2</th>\n",
              "      <td>-149.211979</td>\n",
              "      <td>61.430535</td>\n",
              "      <td>35851</td>\n",
              "      <td>EKLUTNA LAKE RD</td>\n",
              "      <td></td>\n",
              "      <td></td>\n",
              "      <td></td>\n",
              "      <td>99567</td>\n",
              "    </tr>\n",
              "    <tr>\n",
              "      <th>3</th>\n",
              "      <td>-149.212491</td>\n",
              "      <td>61.429942</td>\n",
              "      <td>35845</td>\n",
              "      <td>EKLUTNA LAKE RD</td>\n",
              "      <td></td>\n",
              "      <td></td>\n",
              "      <td></td>\n",
              "      <td>99567</td>\n",
              "    </tr>\n",
              "    <tr>\n",
              "      <th>4</th>\n",
              "      <td>-149.273845</td>\n",
              "      <td>61.453997</td>\n",
              "      <td>32551</td>\n",
              "      <td>EKLUTNA LAKE RD</td>\n",
              "      <td></td>\n",
              "      <td></td>\n",
              "      <td></td>\n",
              "      <td>99567</td>\n",
              "    </tr>\n",
              "  </tbody>\n",
              "</table>\n",
              "</div>\n",
              "      <button class=\"colab-df-convert\" onclick=\"convertToInteractive('df-55d299ae-d767-4654-9afe-613c7a1f75e0')\"\n",
              "              title=\"Convert this dataframe to an interactive table.\"\n",
              "              style=\"display:none;\">\n",
              "        \n",
              "  <svg xmlns=\"http://www.w3.org/2000/svg\" height=\"24px\"viewBox=\"0 0 24 24\"\n",
              "       width=\"24px\">\n",
              "    <path d=\"M0 0h24v24H0V0z\" fill=\"none\"/>\n",
              "    <path d=\"M18.56 5.44l.94 2.06.94-2.06 2.06-.94-2.06-.94-.94-2.06-.94 2.06-2.06.94zm-11 1L8.5 8.5l.94-2.06 2.06-.94-2.06-.94L8.5 2.5l-.94 2.06-2.06.94zm10 10l.94 2.06.94-2.06 2.06-.94-2.06-.94-.94-2.06-.94 2.06-2.06.94z\"/><path d=\"M17.41 7.96l-1.37-1.37c-.4-.4-.92-.59-1.43-.59-.52 0-1.04.2-1.43.59L10.3 9.45l-7.72 7.72c-.78.78-.78 2.05 0 2.83L4 21.41c.39.39.9.59 1.41.59.51 0 1.02-.2 1.41-.59l7.78-7.78 2.81-2.81c.8-.78.8-2.07 0-2.86zM5.41 20L4 18.59l7.72-7.72 1.47 1.35L5.41 20z\"/>\n",
              "  </svg>\n",
              "      </button>\n",
              "      \n",
              "  <style>\n",
              "    .colab-df-container {\n",
              "      display:flex;\n",
              "      flex-wrap:wrap;\n",
              "      gap: 12px;\n",
              "    }\n",
              "\n",
              "    .colab-df-convert {\n",
              "      background-color: #E8F0FE;\n",
              "      border: none;\n",
              "      border-radius: 50%;\n",
              "      cursor: pointer;\n",
              "      display: none;\n",
              "      fill: #1967D2;\n",
              "      height: 32px;\n",
              "      padding: 0 0 0 0;\n",
              "      width: 32px;\n",
              "    }\n",
              "\n",
              "    .colab-df-convert:hover {\n",
              "      background-color: #E2EBFA;\n",
              "      box-shadow: 0px 1px 2px rgba(60, 64, 67, 0.3), 0px 1px 3px 1px rgba(60, 64, 67, 0.15);\n",
              "      fill: #174EA6;\n",
              "    }\n",
              "\n",
              "    [theme=dark] .colab-df-convert {\n",
              "      background-color: #3B4455;\n",
              "      fill: #D2E3FC;\n",
              "    }\n",
              "\n",
              "    [theme=dark] .colab-df-convert:hover {\n",
              "      background-color: #434B5C;\n",
              "      box-shadow: 0px 1px 3px 1px rgba(0, 0, 0, 0.15);\n",
              "      filter: drop-shadow(0px 1px 2px rgba(0, 0, 0, 0.3));\n",
              "      fill: #FFFFFF;\n",
              "    }\n",
              "  </style>\n",
              "\n",
              "      <script>\n",
              "        const buttonEl =\n",
              "          document.querySelector('#df-55d299ae-d767-4654-9afe-613c7a1f75e0 button.colab-df-convert');\n",
              "        buttonEl.style.display =\n",
              "          google.colab.kernel.accessAllowed ? 'block' : 'none';\n",
              "\n",
              "        async function convertToInteractive(key) {\n",
              "          const element = document.querySelector('#df-55d299ae-d767-4654-9afe-613c7a1f75e0');\n",
              "          const dataTable =\n",
              "            await google.colab.kernel.invokeFunction('convertToInteractive',\n",
              "                                                     [key], {});\n",
              "          if (!dataTable) return;\n",
              "\n",
              "          const docLinkHtml = 'Like what you see? Visit the ' +\n",
              "            '<a target=\"_blank\" href=https://colab.research.google.com/notebooks/data_table.ipynb>data table notebook</a>'\n",
              "            + ' to learn more about interactive tables.';\n",
              "          element.innerHTML = '';\n",
              "          dataTable['output_type'] = 'display_data';\n",
              "          await google.colab.output.renderOutput(dataTable, element);\n",
              "          const docLink = document.createElement('div');\n",
              "          docLink.innerHTML = docLinkHtml;\n",
              "          element.appendChild(docLink);\n",
              "        }\n",
              "      </script>\n",
              "    </div>\n",
              "  </div>\n",
              "  "
            ]
          },
          "metadata": {},
          "execution_count": 5
        }
      ]
    },
    {
      "cell_type": "code",
      "source": [
        "df2.info()"
      ],
      "metadata": {
        "colab": {
          "base_uri": "https://localhost:8080/"
        },
        "id": "XwDKF1t-FzM6",
        "outputId": "7b29687f-50e8-4894-e708-3d5b6ad5335e"
      },
      "execution_count": null,
      "outputs": [
        {
          "output_type": "stream",
          "name": "stdout",
          "text": [
            "<class 'pandas.core.frame.DataFrame'>\n",
            "RangeIndex: 292362 entries, 0 to 292361\n",
            "Data columns (total 8 columns):\n",
            " #   Column    Non-Null Count   Dtype  \n",
            "---  ------    --------------   -----  \n",
            " 0   LON       292362 non-null  float64\n",
            " 1   LAT       292362 non-null  float64\n",
            " 2   NUMBER    292362 non-null  object \n",
            " 3   STREET    292362 non-null  object \n",
            " 4   UNIT      292362 non-null  object \n",
            " 5   CITY      292362 non-null  object \n",
            " 6   REGION    292362 non-null  object \n",
            " 7   POSTCODE  292362 non-null  object \n",
            "dtypes: float64(2), object(6)\n",
            "memory usage: 17.8+ MB\n"
          ]
        }
      ]
    },
    {
      "cell_type": "code",
      "source": [
        "# concate data test 1\n",
        "# ref: https://www.indeed.com/career-advice/career-development/how-to-write-an-address#:~:text=Here's%20how%20to%20complete%20their,code%20on%20the%20final%20line.\n",
        "# ex: (-149.362137, 61.4558721), 26101 OLD GLENN HWY, TOWER, 99567\n",
        "def tranform_data(x):\n",
        "  t_data = \"(\" + (x['LON']) + \", \" + (x[\"LAT\"]) + \")\"\n",
        "  t_data += (\", \"+ x[\"NUMBER\"]) if x[\"NUMBER\"]!=\"\" else \"\"\n",
        "  t_data += (\" \" + x[\"STREET\"]) if x[\"STREET\"]!=\"\" else \"\"\n",
        "  t_data += (\", \"+ x[\"UNIT\"]) if x[\"UNIT\"]!=\"\" else \"\"\n",
        "  t_data += (\", \"+ x[\"CITY\"]) if x[\"CITY\"]!=\"\" else \"\" \n",
        "  if x[\"POSTCODE\"]!=\"\" :\n",
        "    if x[\"REGION\"]!=\"\" :\n",
        "       t_data += \", \"+ x[\"REGION\"] + \" \" + x[\"POSTCODE\"]\n",
        "    else :\n",
        "       t_data += \", \"+ x[\"POSTCODE\"] \n",
        "  else :\n",
        "    t_data += \", \"+ x[\"REGION\"]\n",
        "  return t_data\n",
        "\n",
        "data_field = df2.astype(str)\n",
        "data_field = data_field.apply(lambda x: tranform_data(x), axis=1)\n"
      ],
      "metadata": {
        "id": "hhmMRo6kDv-M"
      },
      "execution_count": null,
      "outputs": []
    },
    {
      "cell_type": "code",
      "source": [
        "# POSTCODE + CITY test 2\n",
        "def tranform_data2(x):\n",
        "  t_data = \"\"\n",
        "  t_data += str(x[\"POSTCODE\"]) + \" \" + x[\"CITY\"]\n",
        "  return t_data\n",
        "\n",
        "df3 = df[[\"CITY\",\"POSTCODE\"]]\n",
        "df3 = df3.dropna()\n",
        "df3 = df3.reset_index()\n",
        "data_field = df3.astype(str)\n",
        "data_field = data_field.apply(lambda x: tranform_data2(x), axis=1)"
      ],
      "metadata": {
        "id": "i-r0tqQoqEod"
      },
      "execution_count": null,
      "outputs": []
    },
    {
      "cell_type": "markdown",
      "source": [
        "### Tokenize Data field"
      ],
      "metadata": {
        "id": "sNBleXJ4HXbh"
      }
    },
    {
      "cell_type": "code",
      "source": [
        "#@title Sample Size\n",
        "from nltk.tokenize import word_tokenize\n",
        "sample_size =  100#@param {type:\"integer\"}\n",
        "if sample_size > len(data_field) : \n",
        "  print(\"Out of range!!!\")\n",
        "  print(\"Resize to\", len(data_field))\n",
        "  sample_size = len(data_field)\n",
        "\n",
        "data_sample = data_field[:sample_size]"
      ],
      "metadata": {
        "id": "AIWQ_r3WOnop"
      },
      "execution_count": null,
      "outputs": []
    },
    {
      "cell_type": "code",
      "source": [
        "# add new structure\n",
        "ls = []\n",
        "for x in range(80):\n",
        "  ls.append(\"test \"+ str(10000+int(x/10)))\n",
        "data_sample = pd.concat([data_sample, pd.Series(ls)], ignore_index=True)\n",
        "data_sample"
      ],
      "metadata": {
        "colab": {
          "base_uri": "https://localhost:8080/"
        },
        "id": "aErlM0omiBGG",
        "outputId": "d0bb2086-1d93-4e14-e978-1ed2e9fb3d05"
      },
      "execution_count": null,
      "outputs": [
        {
          "output_type": "execute_result",
          "data": {
            "text/plain": [
              "0      99639.0 NINILCHIK\n",
              "1      99639.0 NINILCHIK\n",
              "2      99639.0 NINILCHIK\n",
              "3      99639.0 NINILCHIK\n",
              "4      99639.0 NINILCHIK\n",
              "             ...        \n",
              "175           test 10007\n",
              "176           test 10007\n",
              "177           test 10007\n",
              "178           test 10007\n",
              "179           test 10007\n",
              "Length: 180, dtype: object"
            ]
          },
          "metadata": {},
          "execution_count": 153
        }
      ]
    },
    {
      "cell_type": "code",
      "source": [
        "seq_token_data = data_sample.apply(lambda x: word_tokenize(x)) # list of list\n",
        "print(\"example data: [{}] \".format(seq_token_data[0]))\n",
        "print(\"size: \", len(seq_token_data))\n",
        "out = pd.DataFrame({\"observation\":[]})\n",
        "out[\"observation\"] = data_sample\n",
        "out.to_csv(\"observation.csv\")"
      ],
      "metadata": {
        "colab": {
          "base_uri": "https://localhost:8080/"
        },
        "id": "v9wMHmzXDW7S",
        "outputId": "1d78e216-afef-4c95-e6db-31eb1894f13e"
      },
      "execution_count": null,
      "outputs": [
        {
          "output_type": "stream",
          "name": "stdout",
          "text": [
            "example data: [['99639.0', 'NINILCHIK']] \n",
            "size:  180\n"
          ]
        }
      ]
    },
    {
      "cell_type": "markdown",
      "source": [
        "# **Program**"
      ],
      "metadata": {
        "id": "hOHtLfWQ4y6v"
      }
    },
    {
      "cell_type": "markdown",
      "source": [
        "### Significant fucntion\n"
      ],
      "metadata": {
        "id": "nXlS6uNfdmBP"
      }
    },
    {
      "cell_type": "code",
      "source": [
        "def significant(count1, count2, num_token, token_count, alpha):\n",
        "  \"\"\"\n",
        "    param:\n",
        "      - count1 : count seq that token C appear after seq Q\n",
        "      - count2 : count seq Q\n",
        "      - num_token : amount of token C\n",
        "      - token_count : amount of all token in data field\n",
        "      - alpha \n",
        "  \"\"\"\n",
        "  p1 = count1 / count2\n",
        "  p2 = num_token / token_count # overall prob of occurrence token T \n",
        "  p_a = (count1 + num_token) / (count2 + token_count)\n",
        "  # print(count1, count2, num_token, token_count, alpha)\n",
        "  # print(p_a ,(1-p_a) ,(1/count2 + 1/token_count), p_a * (1-p_a) * (1/count2 + 1/token_count))\n",
        "  try :\n",
        "    z = (p1 -p2) / math.sqrt(p_a * (1-p_a) * (1/count2 + 1/token_count))\n",
        "  except :\n",
        "    z = 1e9 # case prop = 1\n",
        "  cdf = norm.cdf(-z, 0, 1) # z-score\n",
        "  return cdf < alpha\n",
        "\n",
        "def significant_2(n1,n, num_token,token_count, alpha) :\n",
        "  p = num_token/token_count # overall prob of occurrence token T \n",
        "  mu = n * p\n",
        "  sigma = math.sqrt(n*p*(1-p))\n",
        "  z = (n1-mu)/(sigma/math.sqrt(n))\n",
        "  cdf = norm.cdf(-z)\n",
        "  return cdf < alpha"
      ],
      "metadata": {
        "id": "G-pdTLH2dqq9"
      },
      "execution_count": null,
      "outputs": []
    },
    {
      "cell_type": "markdown",
      "source": [
        "### Other function"
      ],
      "metadata": {
        "id": "OHls-ckCXLBf"
      }
    },
    {
      "cell_type": "code",
      "source": [
        "def get_dic_token(data, tree_type):\n",
        "  # data is a list of list\n",
        "  dictT = {}\n",
        "  cnt = 0\n",
        "  for row in data :\n",
        "    # all_tokenT = set()\n",
        "    for token in row :\n",
        "      tokenTs = assign_type(token, tree_type, False)\n",
        "      tokenTs.add(token)\n",
        "      # all_tokenT = all_tokenT.union(tokenTs)\n",
        "      for tokenT in tokenTs :\n",
        "        if tokenT not in dictT :\n",
        "          dictT[tokenT] = 1\n",
        "        else :\n",
        "          dictT[tokenT] +=1\n",
        "      cnt+=1\n",
        "    # for x in all_tokenT :\n",
        "    #   if x not in dictT :\n",
        "    #     dictT[x] =1\n",
        "    #   else :\n",
        "    #     dictT[x] +=1\n",
        "  return dictT,cnt\n",
        "\n",
        "def print_space(k) :\n",
        "  for i in range(len(k)) :\n",
        "    if k[i][1]:\n",
        "      print(\" \", end=\"\")\n",
        "    else :\n",
        "      print(\"|\", end=\"\")\n",
        "    for j in range(k[i][0]):\n",
        "      print(\" \", end=\"\")\n",
        "\n",
        "def display_tree_type(root=\"TOKEN\", level=0, stack_space=[]):\n",
        "  \"\"\"\n",
        "    show typs's tree structure display.\n",
        "  \"\"\"\n",
        "  if level == 0:\n",
        "    print(\"---------- Tree type -------------\")\n",
        "    print(\"TOKEN\")\n",
        "  cnt = 0\n",
        "  size = len(tree_type[root]['children'])\n",
        "  for child in tree_type[root]['children'] :\n",
        "    print_space(stack_space)\n",
        "    if cnt == size-1 :\n",
        "      print(\"└── \" + child)\n",
        "    else :\n",
        "      print(\"├── \" + child)\n",
        "    temp = stack_space.copy()\n",
        "    temp.append([2 + int(len(child)/2), cnt == size-1])\n",
        "    display_tree_type(child, level+1, temp)\n",
        "    cnt+=1\n",
        "  \n",
        "\n",
        "\n",
        "def follow_by(token, tokenT, tree_type):\n",
        "  return re.search(tree_type[tokenT][\"regex\"], token)\n",
        "\n",
        "def sub_generalize(token1,token2, tree_type): # O(1)\n",
        "  # token2 is a generalization of token1\n",
        "  dif_level = abs(ord(tree_type[token1][\"code\"][\"key\"]) - ord(tree_type[token2][\"code\"][\"key\"]))\n",
        "  return tree_type[token2][\"code\"][\"data\"] in tree_type[token1][\"code\"][\"data\"] and dif_level==1"
      ],
      "metadata": {
        "id": "IdleazvMXIWb"
      },
      "execution_count": null,
      "outputs": []
    },
    {
      "cell_type": "code",
      "source": [
        "c_count = 1\n",
        "q_count = 10000\n",
        "token_t = 1\n",
        "all_t = 10000*2\n",
        "alpha_t = 0.05\n",
        "print(\"sig1:\",significant(c_count, q_count, token_t, all_t, alpha_t))\n",
        "print(\"sig2:\",significant_2(c_count, q_count, token_t, all_t, alpha_t))"
      ],
      "metadata": {
        "colab": {
          "base_uri": "https://localhost:8080/"
        },
        "id": "Toa645H43pu6",
        "outputId": "00cae794-80e1-40da-af0f-365d73ebea84"
      },
      "execution_count": null,
      "outputs": [
        {
          "output_type": "stream",
          "name": "stdout",
          "text": [
            "sig1: False\n",
            "sig2: True\n"
          ]
        }
      ]
    },
    {
      "cell_type": "markdown",
      "source": [
        "### Assign Token's type function\n"
      ],
      "metadata": {
        "id": "JWjsoLSsPy6S"
      }
    },
    {
      "cell_type": "code",
      "source": [
        "# download Tree of type, json format\n",
        "!gdown 1LIGUjJRCdjV_xh3WzFPEqOgogQNokt16"
      ],
      "metadata": {
        "colab": {
          "base_uri": "https://localhost:8080/"
        },
        "id": "NAo7F08HhQh3",
        "outputId": "2e902941-614f-4bbc-ca17-33f0911ebb01"
      },
      "execution_count": null,
      "outputs": [
        {
          "output_type": "stream",
          "name": "stdout",
          "text": [
            "Downloading...\n",
            "From: https://drive.google.com/uc?id=1LIGUjJRCdjV_xh3WzFPEqOgogQNokt16\n",
            "To: /content/tree-type.json\n",
            "\r  0% 0.00/1.40k [00:00<?, ?B/s]\r100% 1.40k/1.40k [00:00<00:00, 2.33MB/s]\n"
          ]
        }
      ]
    },
    {
      "cell_type": "code",
      "source": [
        "def load_tree_type(path):\n",
        "  '''\n",
        "    Args:\n",
        "      path (str): path where json file store.\n",
        "    Returns:\n",
        "      Dict: tree represent.\n",
        "  '''\n",
        "  with open(path, 'r') as f :\n",
        "    tree = json.load(f)\n",
        "  return tree\n",
        "\n",
        "def fix_format(token):\n",
        "  return \"^\"+re.escape(token)+\"$\"\n",
        "\n",
        "def revese_escape(token) :\n",
        "  return re.sub(r'\\\\(.)', r'\\1', token)\n",
        "\n",
        "\n",
        "def assign_type(token, tree_type, grows_tree=False) :\n",
        "  # assign token's type and continue to add special token to the tree\n",
        "  \n",
        "  types = set()\n",
        "  last_node = \"TOKEN\" # last node that matching.\n",
        "\n",
        "  q = Queue()\n",
        "  for k in tree_type[\"TOKEN\"][\"children\"] :\n",
        "    q.put(k)\n",
        "\n",
        "  while not q.empty() :\n",
        "    now_type = q.get()\n",
        "    if re.search(tree_type[now_type][\"regex\"], revese_escape(token)) :\n",
        "      types.add(now_type)\n",
        "      last_node = now_type\n",
        "      for k in tree_type[now_type][\"children\"] :\n",
        "        q.put(k)\n",
        "  \n",
        "  if  tree_type[last_node][\"regex\"] != fix_format(last_node) and (token not in tree_type) and grows_tree: # general node\n",
        "      # constuct new special node\n",
        "      tree_type[token] = dict()\n",
        "      tree_type[token][\"regex\"] = fix_format(token)\n",
        "      tree_type[token][\"children\"] = []\n",
        "      tree_type[token][\"parent\"] = last_node\n",
        "      tree_type[token][\"code\"] = dict()\n",
        "      tree_type[token][\"code\"][\"key\"] = chr(ord(tree_type[last_node][\"code\"][\"key\"]) + 1)\n",
        "      tree_type[token][\"code\"][\"data\"] = tree_type[last_node][\"code\"][\"data\"] + \".\" + tree_type[token][\"code\"][\"key\"] + str(len(tree_type[last_node][\"children\"]))\n",
        "      tree_type[last_node][\"children\"].append(token)\n",
        "      types.add(token)\n",
        "\n",
        "  return types"
      ],
      "metadata": {
        "id": "1w0dIRz-QDMu"
      },
      "execution_count": null,
      "outputs": []
    },
    {
      "cell_type": "code",
      "source": [
        "tree_type = load_tree_type(\"tree-type.json\")\n",
        "display_tree_type()"
      ],
      "metadata": {
        "id": "NL_R7lCGepo2",
        "colab": {
          "base_uri": "https://localhost:8080/"
        },
        "outputId": "d016b9dd-31fe-40f8-ff87-dab7763f8161"
      },
      "execution_count": null,
      "outputs": [
        {
          "output_type": "stream",
          "name": "stdout",
          "text": [
            "---------- Tree type -------------\n",
            "TOKEN\n",
            "├── PUNCT\n",
            "└── ALPHANUM\n",
            "       ├── ALPHA\n",
            "       |    ├── CAPS\n",
            "       |    ├── LOWER\n",
            "       |    └── ALLCAPS\n",
            "       └── NUMBER\n"
          ]
        }
      ]
    },
    {
      "cell_type": "code",
      "source": [
        "assign_type(\"Nectec\", tree_type)"
      ],
      "metadata": {
        "id": "0RsblhgBr4iR",
        "colab": {
          "base_uri": "https://localhost:8080/"
        },
        "outputId": "1f8db47f-c733-412e-f3df-79a308e7a0ee"
      },
      "execution_count": null,
      "outputs": [
        {
          "output_type": "execute_result",
          "data": {
            "text/plain": [
              "{'ALPHA', 'ALPHANUM', 'CAPS'}"
            ]
          },
          "metadata": {},
          "execution_count": 116
        }
      ]
    },
    {
      "cell_type": "code",
      "source": [
        "# test\n",
        "ex = tree_type['ALPHA']['regex']\n",
        "text = 'ttest'\n",
        "x = re.search(ex, text)\n",
        "print(x)"
      ],
      "metadata": {
        "id": "-O9OzCzcfbdc",
        "colab": {
          "base_uri": "https://localhost:8080/"
        },
        "outputId": "70059af8-9d7f-447d-9ee9-4dce4a635fe6"
      },
      "execution_count": null,
      "outputs": [
        {
          "output_type": "stream",
          "name": "stdout",
          "text": [
            "<re.Match object; span=(0, 5), match='ttest'>\n"
          ]
        }
      ]
    },
    {
      "cell_type": "markdown",
      "source": [
        "## Object Class"
      ],
      "metadata": {
        "id": "xpyQIyZQ5mob"
      }
    },
    {
      "cell_type": "code",
      "source": [
        "class node:\n",
        "  def __init__(self, token, examples, pattern, next_po,parent):\n",
        "    self.token = token\n",
        "    self.examples = examples\n",
        "    self.count = len(examples)\n",
        "    self.pattern = pattern\n",
        "    self.children = []\n",
        "    self.next_po = next_po\n",
        "    self.parent = parent\n",
        "\n",
        "  def info(self):\n",
        "    print(\"token:\", self.token)\n",
        "    print(\"amount of example:\", self.count)\n",
        "    print(\"pattern:\", self.pattern)\n",
        "    print(\"next_po:\", self.next_po)\n",
        "\n",
        "  def get_children_token_type(self, tree_type, dict_token, k):\n",
        "    uniq_token = set()\n",
        "    for ex in self.examples :\n",
        "      # bound range\n",
        "      if len(ex) > self.next_po :\n",
        "          uniq_token.add(ex[self.next_po])\n",
        "    \n",
        "    set_token_type = set()\n",
        "    for token in uniq_token :\n",
        "      is_uniq = (dict_token[token] >= k)\n",
        "      # print(token, dict_token[token], k, is_uniq)\n",
        "      set_token_type = set_token_type.union(assign_type(token, tree_type, is_uniq))\n",
        "    return set_token_type\n",
        "  \n",
        "  def print_space(self, k) :\n",
        "    for i in range(len(k)) :\n",
        "      if k[i][1]:\n",
        "        print(\" \", end=\"\")\n",
        "      else :\n",
        "        print(\"|\", end=\"\")\n",
        "      for j in range(k[i][0]):\n",
        "        print(\" \", end=\"\")\n",
        "\n",
        "  def display(self, level=0, stack_space=[]):\n",
        "    cnt = 0\n",
        "    size = len(self.children)\n",
        "    for child in self.children :\n",
        "      self.print_space(stack_space)\n",
        "      if cnt == size-1 :\n",
        "        print(\"└── \" + child.token)\n",
        "      else :\n",
        "        print(\"├── \" + child.token)\n",
        "      temp = stack_space.copy()\n",
        "      temp.append([2 + int(len(child.token)/2), cnt == size-1])\n",
        "      child.display(level+1, temp)\n",
        "      cnt+=1\n",
        "    \n",
        "  def find(self,name_token) :\n",
        "    for child in self.children :\n",
        "      if child.token == name_token : return child\n",
        "      res = child.find(name_token) \n",
        "      if res : return res\n",
        "    return None\n",
        "\n",
        "\n",
        "    "
      ],
      "metadata": {
        "id": "jziMwTRh5lc0"
      },
      "execution_count": null,
      "outputs": []
    },
    {
      "cell_type": "markdown",
      "source": [
        "## Main"
      ],
      "metadata": {
        "id": "J-k0VGyg459N"
      }
    },
    {
      "cell_type": "code",
      "source": [
        "# define constant\n",
        "alpha = 0.05\n",
        "k_percentage = 5 #appears in at least k example, in term of percent.\n",
        "k = int((k_percentage/100) * len(seq_token_data)) \n",
        "\n",
        "# load tree type\n",
        "tree_type = load_tree_type(\"tree-type.json\")\n",
        "\n",
        "# root node\n",
        "q = Queue()\n",
        "root = node(\"root\", list(seq_token_data), [], 0, None)\n",
        "q.put(root)\n",
        "\n",
        "# Knowing how many token occuring in the data before assigned type.\n",
        "# ** token_count required before all seq token's type are generated. Actualy token\n",
        "dict_token, token_count = get_dic_token(seq_token_data, tree_type)\n",
        "\n",
        "# tempo-------------------------------------------------------------\n",
        "s2 = {\"before_pattern_Q\":[], \"amount_Q\":[], \"next_token\":[], \"amount_C\":[], \"prop_(Q,C)\":[],\"prop_(next_token)\":[], \"all_token\":[], \"current_sig_predict\":[]}\n",
        "# temp ---------------------------------------------------------------\n",
        "\n",
        "\n",
        "\n",
        "while not q.empty():\n",
        "    # node Q\n",
        "    Q = q.get()\n",
        "\n",
        "    # Create children Of Q \n",
        "    # Get all posible token that are children of Q\n",
        "    all_token_type = Q.get_children_token_type(tree_type, dict_token, k)\n",
        "    for tokenT in all_token_type :\n",
        "      C = node(tokenT, [], Q.pattern.copy(), Q.next_po+1, Q)\n",
        "      C.examples = [ex for ex in Q.examples if (Q.next_po < len(ex) and follow_by(ex[Q.next_po],tokenT, tree_type))]\n",
        "      C.count = len(C.examples)\n",
        "      C.pattern.append(tokenT)\n",
        "      # temp ---------------------------\n",
        "      s2[\"before_pattern_Q\"].append(Q.pattern)\n",
        "      s2[\"amount_Q\"].append(Q.count)\n",
        "      s2[\"amount_C\"].append(C.count)\n",
        "      s2[\"next_token\"].append(tokenT)\n",
        "      s2[\"prop_(Q,C)\"].append(C.count / Q.count)\n",
        "      s2[\"all_token\"].append(token_count)\n",
        "      s2[\"prop_(next_token)\"].append(dict_token[tokenT]/ token_count)\n",
        "      sig = significant(C.count, Q.count, dict_token[tokenT], token_count, alpha)\n",
        "      s2[\"current_sig_predict\"].append(sig)\n",
        "      # temp ---------------------------\n",
        "      if significant(C.count, Q.count, dict_token[tokenT], token_count, alpha) :\n",
        "        Q.children.append(C)\n",
        "    \n",
        "  \n",
        "    # Prune gerneralizations ?\n",
        "    temp_children = []\n",
        "    for C in Q.children :\n",
        "      N = C.count\n",
        "      for S in Q.children :\n",
        "        if S.token != C.token and sub_generalize(S.token, C.token, tree_type):\n",
        "          N -= S.count\n",
        "      if significant(N, Q.count, dict_token[C.token], token_count, alpha) :\n",
        "        temp_children.append(C)\n",
        "        q.put(C)\n",
        "    Q.children = temp_children\n",
        "\n",
        "    \n",
        "    \n",
        "    # Determinize children of Q\n",
        "    for C in Q.children :\n",
        "      for S in Q.children :\n",
        "        if S.token != C.token and sub_generalize(S.token, C.token, tree_type) :\n",
        "          new_examples = []\n",
        "          for x in C.examples :\n",
        "            if x not in S.examples :\n",
        "              new_examples.append(x)\n",
        "          C.examples = new_examples\n",
        "      C.count = len(C.examples)\n",
        "\n",
        "# temp ---------------------------\n",
        "out = pd.DataFrame.from_dict(s2)\n",
        "out.to_csv(\"prop_respect_to_occure_observation.csv\")\n",
        "# temp ---------------------------"
      ],
      "metadata": {
        "id": "GbP5JJR34_QM"
      },
      "execution_count": null,
      "outputs": []
    },
    {
      "cell_type": "code",
      "source": [
        "root.display()"
      ],
      "metadata": {
        "colab": {
          "base_uri": "https://localhost:8080/"
        },
        "id": "PuH2Had_qJL_",
        "outputId": "38d597c3-8e95-4cd7-a6b0-fde388d32ca4"
      },
      "execution_count": null,
      "outputs": [
        {
          "output_type": "stream",
          "name": "stdout",
          "text": [
            "├── ALPHANUM\n",
            "|      ├── ALPHANUM\n",
            "|      ├── NINILCHIK\n",
            "|      └── KALIFORNSKY\n",
            "├── test\n",
            "|    ├── 10003\n",
            "|    ├── 10001\n",
            "|    ├── 10005\n",
            "|    ├── 10006\n",
            "|    ├── 10004\n",
            "|    ├── 10007\n",
            "|    ├── 10002\n",
            "|    └── 10000\n",
            "├── 99639.0\n",
            "|     └── NINILCHIK\n",
            "└── 99669.0\n",
            "      └── KALIFORNSKY\n"
          ]
        }
      ]
    },
    {
      "cell_type": "code",
      "source": [
        "display_tree_type()"
      ],
      "metadata": {
        "colab": {
          "base_uri": "https://localhost:8080/"
        },
        "id": "_fWyJeGhpyNf",
        "outputId": "3e4e4b2b-bcab-4b3a-8011-c8f4209656aa"
      },
      "execution_count": null,
      "outputs": [
        {
          "output_type": "stream",
          "name": "stdout",
          "text": [
            "---------- Tree type -------------\n",
            "TOKEN\n",
            "├── PUNCT\n",
            "└── ALPHANUM\n",
            "       ├── ALPHA\n",
            "       |    ├── CAPS\n",
            "       |    ├── LOWER\n",
            "       |    |    └── test\n",
            "       |    └── ALLCAPS\n",
            "       |          ├── NINILCHIK\n",
            "       |          └── KALIFORNSKY\n",
            "       └── NUMBER\n",
            "             ├── 99639.0\n",
            "             ├── 99669.0\n",
            "             ├── 10003\n",
            "             ├── 10001\n",
            "             ├── 10005\n",
            "             ├── 10006\n",
            "             ├── 10004\n",
            "             ├── 10007\n",
            "             ├── 10002\n",
            "             └── 10000\n"
          ]
        }
      ]
    },
    {
      "cell_type": "code",
      "source": [
        "s= root.find(\"ALPHA\")\n",
        "if s :\n",
        "  s.info()"
      ],
      "metadata": {
        "id": "CX6ieCEezfhd"
      },
      "execution_count": null,
      "outputs": []
    },
    {
      "cell_type": "code",
      "source": [
        "# Extract patterns from tree\n",
        "res = []\n",
        "q = Queue()\n",
        "q.put(root)\n",
        "while not q.empty() :\n",
        "  Q = q.get()\n",
        "  for C in Q.children :\n",
        "    N = C.count\n",
        "    q.put(C)\n",
        "    for S in C.children :\n",
        "        N-=S.count\n",
        "    if significant(N, Q.count, dict_token[C.token], token_count, alpha) :\n",
        "      res.append(C.pattern)\n",
        "\n",
        "for x in res :\n",
        "  print(\"[{}]\".format(x))\n",
        "print(len(res))"
      ],
      "metadata": {
        "colab": {
          "base_uri": "https://localhost:8080/"
        },
        "id": "3msv04nfYoos",
        "outputId": "492dc543-ba7f-4580-c3fe-84bfa5171ff4"
      },
      "execution_count": null,
      "outputs": [
        {
          "output_type": "stream",
          "name": "stdout",
          "text": [
            "[['ALPHANUM', 'ALPHANUM']]\n",
            "[['ALPHANUM', 'NINILCHIK']]\n",
            "[['ALPHANUM', 'KALIFORNSKY']]\n",
            "[['test', '10003']]\n",
            "[['test', '10001']]\n",
            "[['test', '10005']]\n",
            "[['test', '10006']]\n",
            "[['test', '10004']]\n",
            "[['test', '10007']]\n",
            "[['test', '10002']]\n",
            "[['test', '10000']]\n",
            "[['99639.0', 'NINILCHIK']]\n",
            "[['99669.0', 'KALIFORNSKY']]\n",
            "13\n"
          ]
        }
      ]
    }
  ]
}